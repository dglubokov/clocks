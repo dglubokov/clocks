{
 "cells": [
  {
   "cell_type": "code",
   "execution_count": 1,
   "metadata": {},
   "outputs": [],
   "source": [
    "import warnings\n",
    "import random\n",
    "from pathlib import Path\n",
    "from collections import defaultdict\n",
    "\n",
    "import GEOparse\n",
    "from GEOparse.GEOparse import GSE, GSM\n",
    "import pandas as pd\n",
    "import seaborn as sns\n",
    "import matplotlib.pyplot as plt\n",
    "import numpy as np\n",
    "\n",
    "# Ignore warnings\n",
    "warnings.filterwarnings(\"ignore\")\n",
    "\n",
    "# Show all columns\n",
    "pd.set_option('display.max_columns', None)"
   ]
  },
  {
   "cell_type": "markdown",
   "metadata": {},
   "source": [
    "# DNA methylation age of human tissues and cell types (Steve Horvath)\n",
    "\n",
    "https://link.springer.com/article/10.1186/gb-2013-14-10-r115#Sec40"
   ]
  },
  {
   "cell_type": "markdown",
   "metadata": {},
   "source": [
    "# 0. Datasets Matedata Analysis"
   ]
  },
  {
   "cell_type": "code",
   "execution_count": 2,
   "metadata": {},
   "outputs": [
    {
     "data": {
      "text/html": [
       "<div>\n",
       "<style scoped>\n",
       "    .dataframe tbody tr th:only-of-type {\n",
       "        vertical-align: middle;\n",
       "    }\n",
       "\n",
       "    .dataframe tbody tr th {\n",
       "        vertical-align: top;\n",
       "    }\n",
       "\n",
       "    .dataframe thead th {\n",
       "        text-align: right;\n",
       "    }\n",
       "</style>\n",
       "<table border=\"1\" class=\"dataframe\">\n",
       "  <thead>\n",
       "    <tr style=\"text-align: right;\">\n",
       "      <th></th>\n",
       "      <th>Data label (color)</th>\n",
       "      <th>DNA origin</th>\n",
       "      <th>Platform</th>\n",
       "      <th>Data Use</th>\n",
       "      <th>n (Prop.Female)</th>\n",
       "      <th>Median Age(range)</th>\n",
       "      <th>Citation</th>\n",
       "      <th>Availability</th>\n",
       "      <th>Cor(Age,m.age(Train.CpGs))</th>\n",
       "      <th>Median error (Age, m.age(Train.CpGs))</th>\n",
       "      <th>Median AgeAcceleration(Train.CpGs)</th>\n",
       "      <th>Cor LOOCV</th>\n",
       "      <th>Error LOOCV</th>\n",
       "    </tr>\n",
       "  </thead>\n",
       "  <tbody>\n",
       "    <tr>\n",
       "      <th>0</th>\n",
       "      <td>1 (turquoise)</td>\n",
       "      <td>Blood WB</td>\n",
       "      <td>27K</td>\n",
       "      <td>Training</td>\n",
       "      <td>715 (0.38)</td>\n",
       "      <td>33 (16,88)</td>\n",
       "      <td>Horvath 2012</td>\n",
       "      <td>GSE41037</td>\n",
       "      <td>0.96</td>\n",
       "      <td>2.8</td>\n",
       "      <td>-0.1</td>\n",
       "      <td>0.95 (0)</td>\n",
       "      <td>3.2</td>\n",
       "    </tr>\n",
       "    <tr>\n",
       "      <th>1</th>\n",
       "      <td>2 (blue)</td>\n",
       "      <td>Blood WB</td>\n",
       "      <td>450K</td>\n",
       "      <td>Training</td>\n",
       "      <td>94 (0.28)</td>\n",
       "      <td>29 (18,65)</td>\n",
       "      <td>Horvath 2012</td>\n",
       "      <td>GSE41169</td>\n",
       "      <td>0.93</td>\n",
       "      <td>2.5</td>\n",
       "      <td>0.7</td>\n",
       "      <td>0.92 (0)</td>\n",
       "      <td>2.7</td>\n",
       "    </tr>\n",
       "    <tr>\n",
       "      <th>2</th>\n",
       "      <td>3 (brown)</td>\n",
       "      <td>Blood WB</td>\n",
       "      <td>450K</td>\n",
       "      <td>Training</td>\n",
       "      <td>656 (0.52)</td>\n",
       "      <td>65 (19,100)</td>\n",
       "      <td>Hannum 2012</td>\n",
       "      <td>GSE40279</td>\n",
       "      <td>0.91</td>\n",
       "      <td>3.9</td>\n",
       "      <td>-0.7</td>\n",
       "      <td>0.88 (0)</td>\n",
       "      <td>8.9</td>\n",
       "    </tr>\n",
       "    <tr>\n",
       "      <th>3</th>\n",
       "      <td>4 (blue2)</td>\n",
       "      <td>Blood PBMC</td>\n",
       "      <td>450K</td>\n",
       "      <td>Training</td>\n",
       "      <td>72 (0)</td>\n",
       "      <td>3.1 (1,16)</td>\n",
       "      <td>Alisch 2012</td>\n",
       "      <td>GSE36064</td>\n",
       "      <td>0.96</td>\n",
       "      <td>0.5</td>\n",
       "      <td>0.3</td>\n",
       "      <td>0.96 (0)</td>\n",
       "      <td>0.8</td>\n",
       "    </tr>\n",
       "    <tr>\n",
       "      <th>4</th>\n",
       "      <td>5 (green)</td>\n",
       "      <td>Blood PBMC</td>\n",
       "      <td>450K</td>\n",
       "      <td>Training</td>\n",
       "      <td>48 (0.52)</td>\n",
       "      <td>15 (3.5,76)</td>\n",
       "      <td>Harris et al 2012</td>\n",
       "      <td>GSE32149</td>\n",
       "      <td>0.96</td>\n",
       "      <td>2.4</td>\n",
       "      <td>-0.5</td>\n",
       "      <td>0.95 (0)</td>\n",
       "      <td>1.8</td>\n",
       "    </tr>\n",
       "    <tr>\n",
       "      <th>...</th>\n",
       "      <td>...</td>\n",
       "      <td>...</td>\n",
       "      <td>...</td>\n",
       "      <td>...</td>\n",
       "      <td>...</td>\n",
       "      <td>...</td>\n",
       "      <td>...</td>\n",
       "      <td>...</td>\n",
       "      <td>...</td>\n",
       "      <td>...</td>\n",
       "      <td>...</td>\n",
       "      <td>...</td>\n",
       "      <td>...</td>\n",
       "    </tr>\n",
       "    <tr>\n",
       "      <th>77</th>\n",
       "      <td>78</td>\n",
       "      <td>Stem cells+Somatic Cells</td>\n",
       "      <td>450K</td>\n",
       "      <td>Other</td>\n",
       "      <td>153 (0.63)</td>\n",
       "      <td>NaN</td>\n",
       "      <td>Nazor 2012</td>\n",
       "      <td>GSE31848</td>\n",
       "      <td>NaN</td>\n",
       "      <td>NaN</td>\n",
       "      <td>NaN</td>\n",
       "      <td>NaN</td>\n",
       "      <td>NaN</td>\n",
       "    </tr>\n",
       "    <tr>\n",
       "      <th>78</th>\n",
       "      <td>79</td>\n",
       "      <td>Reprogrammed mesenchymal stromal cells</td>\n",
       "      <td>450K</td>\n",
       "      <td>Other</td>\n",
       "      <td>24 (NA)</td>\n",
       "      <td>NaN</td>\n",
       "      <td>Shao 2012</td>\n",
       "      <td>GSE37066</td>\n",
       "      <td>NaN</td>\n",
       "      <td>NaN</td>\n",
       "      <td>NaN</td>\n",
       "      <td>NaN</td>\n",
       "      <td>NaN</td>\n",
       "    </tr>\n",
       "    <tr>\n",
       "      <th>79</th>\n",
       "      <td>80</td>\n",
       "      <td>HematopoieticStemAndNormalPrimaryTissue</td>\n",
       "      <td>27k</td>\n",
       "      <td>Other</td>\n",
       "      <td>34 (NA)</td>\n",
       "      <td>NaN</td>\n",
       "      <td>Calvanese 2012</td>\n",
       "      <td>GSE30090</td>\n",
       "      <td>NaN</td>\n",
       "      <td>NaN</td>\n",
       "      <td>NaN</td>\n",
       "      <td>NaN</td>\n",
       "      <td>NaN</td>\n",
       "    </tr>\n",
       "    <tr>\n",
       "      <th>80</th>\n",
       "      <td>81</td>\n",
       "      <td>hESC</td>\n",
       "      <td>27k</td>\n",
       "      <td>Other</td>\n",
       "      <td>6 (NA)</td>\n",
       "      <td>NaN</td>\n",
       "      <td>Ramos-Mejía 2012</td>\n",
       "      <td>GSE30456</td>\n",
       "      <td>NaN</td>\n",
       "      <td>NaN</td>\n",
       "      <td>NaN</td>\n",
       "      <td>NaN</td>\n",
       "      <td>NaN</td>\n",
       "    </tr>\n",
       "    <tr>\n",
       "      <th>81</th>\n",
       "      <td>82</td>\n",
       "      <td>Blood Cell Types</td>\n",
       "      <td>450K</td>\n",
       "      <td>Other</td>\n",
       "      <td>60 (0)</td>\n",
       "      <td>NaN</td>\n",
       "      <td>Reinius 2012</td>\n",
       "      <td>GSE35069</td>\n",
       "      <td>NaN</td>\n",
       "      <td>NaN</td>\n",
       "      <td>NaN</td>\n",
       "      <td>NaN</td>\n",
       "      <td>NaN</td>\n",
       "    </tr>\n",
       "  </tbody>\n",
       "</table>\n",
       "<p>82 rows × 13 columns</p>\n",
       "</div>"
      ],
      "text/plain": [
       "   Data label (color)                                  DNA origin Platform  \\\n",
       "0       1 (turquoise)                                    Blood WB      27K   \n",
       "1            2 (blue)                                    Blood WB     450K   \n",
       "2           3 (brown)                                    Blood WB     450K   \n",
       "3           4 (blue2)                                  Blood PBMC     450K   \n",
       "4           5 (green)                                  Blood PBMC     450K   \n",
       "..                ...                                         ...      ...   \n",
       "77                 78                    Stem cells+Somatic Cells     450K   \n",
       "78                 79     Reprogrammed mesenchymal stromal cells      450K   \n",
       "79                 80     HematopoieticStemAndNormalPrimaryTissue      27k   \n",
       "80                 81  hESC                                            27k   \n",
       "81                 82                            Blood Cell Types     450K   \n",
       "\n",
       "    Data Use n (Prop.Female) Median Age(range)           Citation  \\\n",
       "0   Training      715 (0.38)        33 (16,88)       Horvath 2012   \n",
       "1   Training       94 (0.28)        29 (18,65)       Horvath 2012   \n",
       "2   Training      656 (0.52)       65 (19,100)        Hannum 2012   \n",
       "3   Training          72 (0)        3.1 (1,16)        Alisch 2012   \n",
       "4   Training       48 (0.52)       15 (3.5,76)  Harris et al 2012   \n",
       "..       ...             ...               ...                ...   \n",
       "77     Other      153 (0.63)               NaN         Nazor 2012   \n",
       "78     Other         24 (NA)               NaN          Shao 2012   \n",
       "79     Other         34 (NA)               NaN     Calvanese 2012   \n",
       "80     Other          6 (NA)               NaN   Ramos-Mejía 2012   \n",
       "81     Other          60 (0)               NaN       Reinius 2012   \n",
       "\n",
       "   Availability  Cor(Age,m.age(Train.CpGs))  \\\n",
       "0      GSE41037                        0.96   \n",
       "1      GSE41169                        0.93   \n",
       "2      GSE40279                        0.91   \n",
       "3      GSE36064                        0.96   \n",
       "4      GSE32149                        0.96   \n",
       "..          ...                         ...   \n",
       "77     GSE31848                         NaN   \n",
       "78     GSE37066                         NaN   \n",
       "79     GSE30090                         NaN   \n",
       "80     GSE30456                         NaN   \n",
       "81     GSE35069                         NaN   \n",
       "\n",
       "    Median error (Age, m.age(Train.CpGs))  Median AgeAcceleration(Train.CpGs)  \\\n",
       "0                                     2.8                                -0.1   \n",
       "1                                     2.5                                 0.7   \n",
       "2                                     3.9                                -0.7   \n",
       "3                                     0.5                                 0.3   \n",
       "4                                     2.4                                -0.5   \n",
       "..                                    ...                                 ...   \n",
       "77                                    NaN                                 NaN   \n",
       "78                                    NaN                                 NaN   \n",
       "79                                    NaN                                 NaN   \n",
       "80                                    NaN                                 NaN   \n",
       "81                                    NaN                                 NaN   \n",
       "\n",
       "   Cor LOOCV  Error LOOCV  \n",
       "0   0.95 (0)          3.2  \n",
       "1   0.92 (0)          2.7  \n",
       "2   0.88 (0)          8.9  \n",
       "3   0.96 (0)          0.8  \n",
       "4   0.95 (0)          1.8  \n",
       "..       ...          ...  \n",
       "77       NaN          NaN  \n",
       "78       NaN          NaN  \n",
       "79       NaN          NaN  \n",
       "80       NaN          NaN  \n",
       "81       NaN          NaN  \n",
       "\n",
       "[82 rows x 13 columns]"
      ]
     },
     "execution_count": 2,
     "metadata": {},
     "output_type": "execute_result"
    }
   ],
   "source": [
    "url = \"https://static-content.springer.com/esm/art%3A10.1186%2Fgb-2013-14-10-r115/MediaObjects/13059_2013_3156_MOESM1_ESM.csv\"\n",
    "dataset_meta = pd.read_csv(url, encoding=\"latin1\")\n",
    "dataset_meta[\"Availability\"] = dataset_meta[\"Availability\"].str.strip()\n",
    "dataset_meta"
   ]
  },
  {
   "cell_type": "code",
   "execution_count": 3,
   "metadata": {},
   "outputs": [
    {
     "data": {
      "text/plain": [
       "DNA origin\n",
       "Blood WB                                      8\n",
       "Blood PBMC                                    5\n",
       "Blood Cord                                    4\n",
       "Buccal                                        4\n",
       "Lung NL Adj                                   4\n",
       "Kidney                                        3\n",
       "Colon                                         3\n",
       "Saliva                                        3\n",
       "Breast NL Adj                                 2\n",
       "Blood Cell Types                              2\n",
       "Prostate NL                                   2\n",
       "Placenta                                      2\n",
       "Heart                                         2\n",
       "Brain CRBLM                                   2\n",
       "Sperm                                         2\n",
       "Muscle                                        2\n",
       "Stem cells+Somatic Cells                      2\n",
       "Epidermis                                     1\n",
       "Breast NL                                     1\n",
       "BrainVariousCells                             1\n",
       "Brain TCTX                                    1\n",
       "Brain PONS                                    1\n",
       "Brain Prefr.CTX                               1\n",
       "Brain FCTX                                    1\n",
       "Dermal fibroblast                             1\n",
       "Cartilage Knee                                1\n",
       "Stomach                                       1\n",
       "MSC (bonemarrow)                              1\n",
       "Liver                                         1\n",
       "Head+Neck                                     1\n",
       "Gastric                                       1\n",
       "Brain Cerebellar                              1\n",
       "Blood CD4+CD14                                1\n",
       "Blood CD4 Tcells                              1\n",
       "Thyroid                                       1\n",
       "Liver                                         1\n",
       "Uterine Cervix                                1\n",
       "Fat Adip                                      1\n",
       "Brain Occipital Cortex                        1\n",
       "Various Tissues                               1\n",
       "Uterine Endomet                               1\n",
       "Ape WB                                        1\n",
       "Chimp+Human Tissues                           1\n",
       " Vasc.Endoth(Umbilical)                       1\n",
       "Reprogrammed mesenchymal stromal cells        1\n",
       "HematopoieticStemAndNormalPrimaryTissue       1\n",
       "hESC                                          1\n",
       "Name: count, dtype: int64"
      ]
     },
     "execution_count": 3,
     "metadata": {},
     "output_type": "execute_result"
    }
   ],
   "source": [
    "dataset_meta['DNA origin'].value_counts()"
   ]
  },
  {
   "cell_type": "code",
   "execution_count": 4,
   "metadata": {},
   "outputs": [
    {
     "data": {
      "text/plain": [
       "Platform\n",
       "27K     49\n",
       "450K    26\n",
       "27k      4\n",
       "450k     3\n",
       "Name: count, dtype: int64"
      ]
     },
     "execution_count": 4,
     "metadata": {},
     "output_type": "execute_result"
    }
   ],
   "source": [
    "dataset_meta['Platform'].value_counts()"
   ]
  },
  {
   "cell_type": "code",
   "execution_count": 5,
   "metadata": {},
   "outputs": [
    {
     "data": {
      "text/plain": [
       "Data Use\n",
       "Training    39\n",
       "Test        32\n",
       "Other       11\n",
       "Name: count, dtype: int64"
      ]
     },
     "execution_count": 5,
     "metadata": {},
     "output_type": "execute_result"
    }
   ],
   "source": [
    "dataset_meta['Data Use'].value_counts()"
   ]
  },
  {
   "cell_type": "markdown",
   "metadata": {},
   "source": [
    "# 1. GEO Data Analysis"
   ]
  },
  {
   "cell_type": "code",
   "execution_count": 6,
   "metadata": {},
   "outputs": [
    {
     "name": "stdout",
     "output_type": "stream",
     "text": [
      "['GSE15745', 'GSE17448', 'GSE19711']\n",
      "['GSE20067', 'GSE20236', 'GSE20242']\n",
      "['GSE22595', 'GSE25892', 'GSE26033']\n",
      "['GSE26126', 'GSE26974', 'GSE27097']\n",
      "['GSE27317', 'GSE28746', 'GSE30090']\n",
      "['GSE30456', 'GSE30601', 'GSE30653']\n",
      "['GSE30758', 'GSE30870', 'GSE31848']\n",
      "['GSE32146', 'GSE32149', 'GSE32393']\n",
      "['GSE34035', 'GSE34257', 'GSE34639']\n",
      "['GSE35069', 'GSE36064', 'GSE36166']\n",
      "['GSE36642', 'GSE36812', 'GSE37008']\n",
      "['GSE37066', 'GSE37988', 'GSE38291']\n",
      "['GSE38608', 'GSE38873', 'GSE40279']\n",
      "['GSE40700', 'GSE41037', 'GSE41169']\n",
      "['GSE41782', 'GSE41826', 'GSE42510']\n",
      "['GSE42700', 'GSE42861', 'GSE42865']\n",
      "['GSE43269', 'GSE44667', 'GSE47627']\n"
     ]
    }
   ],
   "source": [
    "GEO_DATA_DIR = Path(\"./data/GEO/\")\n",
    "\n",
    "gse_set = sorted(dataset_meta.loc[dataset_meta[\"Availability\"].str.contains(\"GSE\"), \"Availability\"].unique())\n",
    "\n",
    "# Show chunks of 3\n",
    "for i in range(0, len(gse_set), 3):\n",
    "    print(gse_set[i:i + 3])"
   ]
  },
  {
   "cell_type": "code",
   "execution_count": 7,
   "metadata": {},
   "outputs": [],
   "source": [
    "SAMPLES = defaultdict(dict)\n",
    "SAMPLES_CELLS = defaultdict(dict)\n",
    "\n",
    "ARRAY_PATHS = {\n",
    "    27578: Path('./data/arrays_27k'),\n",
    "    485577: Path('./data/arrays_450k')\n",
    "}\n",
    "CELLS_PATHS = {\n",
    "    27578: Path('./data/arrays_27k_cells'),\n",
    "    485577: Path('./data/arrays_450k_cells')\n",
    "}\n",
    "\n",
    "for path in (list(ARRAY_PATHS.values()) + list(CELLS_PATHS.values())):\n",
    "    path.mkdir(parents=True, exist_ok=True)\n",
    "\n",
    "\n",
    "def get_gse(gse_id):\n",
    "    return GEOparse.get_GEO(gse_id, destdir=str(GEO_DATA_DIR), silent=True)\n",
    "\n",
    "\n",
    "def plot_age_ditribution(gse_id):\n",
    "    if len(SAMPLES[gse_id]) == 0:\n",
    "        print(f\"The length of {gse_id} is 0\")\n",
    "        return\n",
    "    ages = pd.DataFrame(SAMPLES[gse_id]).T[\"age\"].dropna().astype(int)\n",
    "    plt.figure(figsize=(5, 2))\n",
    "    sns.histplot(ages, bins=20)\n",
    "    plt.title(\"Age distribution\")\n",
    "    plt.show()\n",
    "\n",
    "\n",
    "def remove_gse(gse_id):\n",
    "    (GEO_DATA_DIR / f'{gse_id}_family.soft.gz').unlink(missing_ok=True)\n",
    "\n",
    "\n",
    "def get_platform(gse_id):\n",
    "    return dataset_meta.loc[dataset_meta[\"Availability\"] == gse_id, \"Platform\"].iloc[0].lower()\n",
    "\n",
    "\n",
    "def is_correct_array(gsm: GSM):\n",
    "    return len(gsm.table) in ARRAY_PATHS\n",
    "\n",
    "\n",
    "def save_array(gsm_name, gsm_table, path_dict):\n",
    "    array_length = len(gsm_table)\n",
    "    if array_length in path_dict:\n",
    "        array = np.array(gsm_table.sort_values(by='ID_REF')['VALUE'])\n",
    "        np.save(path_dict[array_length] / f'{gsm_name}.npy', array)\n",
    "\n",
    "\n",
    "def array_save(gsm_name: str, gsm: GSM):\n",
    "    save_array(gsm_name, gsm.table, ARRAY_PATHS)\n",
    "\n",
    "def array_cells_save(gsm_name: str, gsm: GSM):\n",
    "    save_array(gsm_name, gsm.table, CELLS_PATHS)\n",
    "\n",
    "def sample_meta_parse(metadata: dict):\n",
    "    sample_meta = {}\n",
    "    for x in metadata['characteristics_ch1']:\n",
    "        values = x.split(\": \")\n",
    "        sample_meta[values[0]] = values[1] if len(values) == 2 else None\n",
    "    return sample_meta"
   ]
  },
  {
   "cell_type": "markdown",
   "metadata": {},
   "source": [
    "## 1.1. GSE15745\n",
    "\n",
    "**Abundant Quantitative Trait Loci for CpG Methylation and Expression Across Human Brain Tissues**\n",
    "\n",
    "Because of our interest in genomic regulation of expression and neurological disorders we embarked upon a series of experiments to provide a brain region-specific contextual framework for genetic and epigenetic regulation of gene expression. We obtained frozen brain tissue from the cerebellum, frontal cortex, pons and temporal cortex from 150 subjects (total 600 tissue samples). We undertook four separate assays across this series; first, genome-wide SNP genotyping; second, assay of >27,000 CpG methylation sites in each of the four brain regions; third, mRNA expression profiling of >22,000 transcripts in all four brain regions; and, fourth, miRNA expression profiling of 735 miRNA transcripts. Here we discuss the results of these experiments, particularly in the context of integrated datasets to define expression and CpG methylation quantitative trait loci (eQTL and methQTL) and detailing differences and similarities across brain regions."
   ]
  },
  {
   "cell_type": "code",
   "execution_count": 8,
   "metadata": {},
   "outputs": [],
   "source": [
    "CURRENT_GSE = \"GSE15745\"\n",
    "gse = get_gse(CURRENT_GSE)"
   ]
  },
  {
   "cell_type": "code",
   "execution_count": 9,
   "metadata": {},
   "outputs": [
    {
     "data": {
      "text/plain": [
       "['cerebellum', 'frontal cortex', 'pons', 'temporal cortex', nan]"
      ]
     },
     "execution_count": 9,
     "metadata": {},
     "output_type": "execute_result"
    }
   ],
   "source": [
    "list(gse.phenotype_data['characteristics_ch1.5.tissue'].unique())"
   ]
  },
  {
   "cell_type": "code",
   "execution_count": 10,
   "metadata": {},
   "outputs": [
    {
     "data": {
      "image/png": "[encoded data removed]",
      "text/plain": [
       "<Figure size 500x200 with 1 Axes>"
      ]
     },
     "metadata": {},
     "output_type": "display_data"
    }
   ],
   "source": [
    "platform = get_platform(CURRENT_GSE)\n",
    "for gsm_name, gsm in gse.gsms.items():\n",
    "    gsm_metadata = gsm.metadata\n",
    "    sample_meta = sample_meta_parse(gsm_metadata)\n",
    "\n",
    "    if gsm_metadata['molecule_ch1'][0] != 'genomic DNA':\n",
    "        continue\n",
    "    \n",
    "    if pd.isna(sample_meta['tissue'][0]):\n",
    "        continue\n",
    "\n",
    "    if not is_correct_array(gsm):\n",
    "        continue\n",
    "    array_save(gsm_name, gsm)\n",
    "\n",
    "    SAMPLES[CURRENT_GSE][gsm_name] = {\n",
    "        'sex': sample_meta['gender'].lower(),\n",
    "        'age': int(sample_meta.get('age') or sample_meta.get('age (y)')),\n",
    "        'tissue': 'brain',\n",
    "        'disease': 'healthy',\n",
    "        'platform': platform\n",
    "    }\n",
    "\n",
    "plot_age_ditribution(CURRENT_GSE)\n",
    "remove_gse(CURRENT_GSE)"
   ]
  },
  {
   "cell_type": "markdown",
   "metadata": {},
   "source": [
    "## 1.2. GSE17448\n",
    "\n",
    "**Methylation Pattern of Human Mesenchymal Stromal Cells**\n",
    "\n",
    "In this study, we have analyzed DNA methylation changes upon long-term culture and aging of MSC by using the HumanMethylation27 BeadChip assessing 27,578 unique CpG sites. Cells were taken from bone marrow aspirates from iliac crest (BM) of healthy donors or from the caput femoris (HIP) of elderly patients that received femoral head prosthesis.Overall, the methylation pattern was maintained throughout both long-term culture and aging but highly significant differences were observed at specific CpG sites. Notably, methylation changes in MSC were related in long-term culture and aging in vivo."
   ]
  },
  {
   "cell_type": "code",
   "execution_count": 11,
   "metadata": {},
   "outputs": [],
   "source": [
    "CURRENT_GSE = \"GSE17448\"\n",
    "gse = get_gse(CURRENT_GSE)"
   ]
  },
  {
   "cell_type": "code",
   "execution_count": 12,
   "metadata": {},
   "outputs": [
    {
     "data": {
      "text/plain": [
       "['mesenchymal stromal cells from human bone marrow']"
      ]
     },
     "execution_count": 12,
     "metadata": {},
     "output_type": "execute_result"
    }
   ],
   "source": [
    "list(gse.phenotype_data['characteristics_ch1.0.cell type'].unique())"
   ]
  },
  {
   "cell_type": "code",
   "execution_count": 13,
   "metadata": {},
   "outputs": [
    {
     "data": {
      "image/png": "[encoded data removed]",
      "text/plain": [
       "<Figure size 500x200 with 1 Axes>"
      ]
     },
     "metadata": {},
     "output_type": "display_data"
    }
   ],
   "source": [
    "platform = get_platform(CURRENT_GSE)\n",
    "for gsm_name, gsm in gse.gsms.items():\n",
    "    if not is_correct_array(gsm):\n",
    "        continue\n",
    "    array_save(gsm_name, gsm)\n",
    "\n",
    "    sample_meta = sample_meta_parse(gsm.metadata)\n",
    "    SAMPLES[CURRENT_GSE][gsm_name] = {\n",
    "        'sex': None,\n",
    "        'age': int(sample_meta['age'].split()[0]),\n",
    "        'tissue': 'bone marrow',\n",
    "        'disease': 'healthy',\n",
    "        'platform': platform\n",
    "    }\n",
    "\n",
    "plot_age_ditribution(CURRENT_GSE)\n",
    "remove_gse(CURRENT_GSE)"
   ]
  },
  {
   "cell_type": "markdown",
   "metadata": {},
   "source": [
    "## 1.3. GSE19711\n",
    "\n",
    "**Genome wide DNA methylation profiling of United Kingdom Ovarian Cancer Population Study (UKOPS)**\n",
    "\n",
    "The Illumina Infinium 27k Human DNA methylation Beadchip v1.2 was used to obtain DNA methylation profiles across approximately 27,000 CpGs in whole blood samples from 540 samples, of which 266 were samples taken from postmenopausal women with ovarian cancer and 274 were from age-matched healthy controls"
   ]
  },
  {
   "cell_type": "code",
   "execution_count": 14,
   "metadata": {},
   "outputs": [],
   "source": [
    "CURRENT_GSE = \"GSE19711\"\n",
    "gse = get_gse(CURRENT_GSE)"
   ]
  },
  {
   "cell_type": "code",
   "execution_count": 15,
   "metadata": {},
   "outputs": [
    {
     "data": {
      "image/png": "[encoded data removed]",
      "text/plain": [
       "<Figure size 500x200 with 1 Axes>"
      ]
     },
     "metadata": {},
     "output_type": "display_data"
    }
   ],
   "source": [
    "platform = get_platform(CURRENT_GSE)\n",
    "for gsm_name, gsm in gse.gsms.items():\n",
    "    if not is_correct_array(gsm):\n",
    "        continue\n",
    "    array_save(gsm_name, gsm)\n",
    "\n",
    "    sample_meta = sample_meta_parse(gsm.metadata)\n",
    "    is_cancer = sample_meta['pre-treatment sample'] == 'No' and sample_meta['post-treatment sample'] == 'No'\n",
    "    SAMPLES[CURRENT_GSE][gsm_name] = {\n",
    "        'sex': 'female',\n",
    "        'age': int(sample_meta['ageatrecruitment']),\n",
    "        'tissue': 'blood',\n",
    "        'disease': 'cancer' if is_cancer else 'healthy',\n",
    "        'platform': platform\n",
    "    }\n",
    "\n",
    "plot_age_ditribution(CURRENT_GSE)\n",
    "remove_gse(CURRENT_GSE)"
   ]
  },
  {
   "cell_type": "markdown",
   "metadata": {},
   "source": [
    "## 1.4. GSE20067\n",
    "\n",
    "**Genome wide DNA methylation profiling of diabetic nephropathy in type 1 diabetes mellitus**\n",
    "\n",
    "The Illumina Infinium 27k Human DNA methylation Beadchip v1.2 was used to obtain DNA methylation profiles across approximately 27,000 CpGs in whole blood samples from a case-control study of 192 Irish patients with type 1 diabetes mellitus (T1D). Cases had T1D and nephropathy whereas controls had T1D but no evidence of renal disease."
   ]
  },
  {
   "cell_type": "code",
   "execution_count": 16,
   "metadata": {},
   "outputs": [],
   "source": [
    "CURRENT_GSE = \"GSE20067\"\n",
    "gse = get_gse(CURRENT_GSE)"
   ]
  },
  {
   "cell_type": "code",
   "execution_count": 17,
   "metadata": {},
   "outputs": [
    {
     "data": {
      "image/png": "[encoded data removed]",
      "text/plain": [
       "<Figure size 500x200 with 1 Axes>"
      ]
     },
     "metadata": {},
     "output_type": "display_data"
    }
   ],
   "source": [
    "platform = get_platform(CURRENT_GSE)\n",
    "for gsm_name, gsm in gse.gsms.items():\n",
    "    if not is_correct_array(gsm):\n",
    "        continue\n",
    "    array_save(gsm_name, gsm)\n",
    "\n",
    "    sample_meta = sample_meta_parse(gsm.metadata)\n",
    "    SAMPLES[CURRENT_GSE][gsm_name] = {\n",
    "        'sex': sample_meta['sex'].lower(),\n",
    "        'age': int(sample_meta['durationt1d']),\n",
    "        'tissue': 'blood',\n",
    "        'disease': 'diabetes I',\n",
    "        'platform': platform\n",
    "    }\n",
    "\n",
    "plot_age_ditribution(CURRENT_GSE)\n",
    "remove_gse(CURRENT_GSE)"
   ]
  },
  {
   "cell_type": "markdown",
   "metadata": {},
   "source": [
    "## 1.5. GSE20236\n",
    "\n",
    "**Human Aging-associated DNA Hypermethylation Occurs Preferentially at Bivalent Chromatin Domains**\n",
    "\n",
    "There is a growing realization that some aging-associated phenotypes/diseases have an epigenetic basis. Here we report the first genome-scale study of epigenomic dynamics during normal human aging. We identify aging-associated differentially methylated regions (aDMRs) in whole blood in a discovery cohort, and then replicate these aDMRs in sorted CD4+ T-cells and CD14+ monocytes in an independent cohort, suggesting that aDMRs occur in precursor haematopoietic cells. Further replication of the aDMRs in buccal cells, representing a tissue that originates from a different germ-layer compared with blood, demonstrates that the aDMR signature is a multi-tissue phenomenon. Moreover, we demonstrate that aging-associated DNA hypermethylation occurs predominantly at bivalent chromatin domain promoters. This same category of promoters, associated with key developmental genes, is frequently hypermethylated in cancers and in vitro cell culture, pointing to a novel mechanistic link between aberrant hypermethylation in cancer, aging, and cell culture.\n",
    "\n",
    "We measured the methylation state of 27,578 CpG sites (Illumina HumanMethylation27 array) in whole blood samples from 93 heathy human females aged between 49 and 74, to discover sites which change methylation state with age."
   ]
  },
  {
   "cell_type": "code",
   "execution_count": 18,
   "metadata": {},
   "outputs": [
    {
     "name": "stdout",
     "output_type": "stream",
     "text": [
      "The length of GSE20236 is 0\n"
     ]
    }
   ],
   "source": [
    "CURRENT_GSE = \"GSE20236\"\n",
    "gse = get_gse(CURRENT_GSE)\n",
    "\n",
    "platform = get_platform(CURRENT_GSE)\n",
    "for gsm_name, gsm in gse.gsms.items():\n",
    "    if not is_correct_array(gsm):\n",
    "        continue\n",
    "    array_save(gsm_name, gsm)\n",
    "\n",
    "    sample_meta = sample_meta_parse(gsm.metadata)\n",
    "    SAMPLES[CURRENT_GSE][gsm_name] = {\n",
    "        'sex': sample_meta['gender'].lower(),\n",
    "        'age': int(float(sample_meta['age'].split(' ')[0])),\n",
    "        'tissue': 'blood',\n",
    "        'disease': 'healthy',\n",
    "        'platform': platform\n",
    "    }\n",
    "\n",
    "plot_age_ditribution(CURRENT_GSE)\n",
    "remove_gse(CURRENT_GSE)"
   ]
  },
  {
   "cell_type": "markdown",
   "metadata": {},
   "source": [
    "## 1.6. GSE20242\n",
    "\n",
    "**Human Aging-associated DNA Hypermethylation Occurs Preferentially at Bivalent Chromatin Domains**\n",
    "\n",
    "There is a growing realization that some aging-associated phenotypes/diseases have an epigenetic basis. Here we report the first genome-scale study of epigenomic dynamics during normal human aging. We identify aging-associated differentially methylated regions (aDMRs) in whole blood in a discovery cohort, and then replicate these aDMRs in sorted CD4+ T-cells and CD14+ monocytes in an independent cohort, suggesting that aDMRs occur in precursor haematopoietic cells. Further replication of the aDMRs in buccal cells, representing a tissue that originates from a different germ-layer compared with blood, demonstrates that the aDMR signature is a multi-tissue phenomenon. Moreover, we demonstrate that aging-associated DNA hypermethylation occurs predominantly at bivalent chromatin domain promoters. This same category of promoters, associated with key developmental genes, is frequently hypermethylated in cancers and in vitro cell culture, pointing to a novel mechanistic link between aberrant hypermethylation in cancer, aging, and cell culture.\n",
    "\n",
    "We measured the methylation state of 27,578 CpG sites (Illumina HumanMethylation27 array) in sorted human blood cells to validate aging-associated DMRs."
   ]
  },
  {
   "cell_type": "code",
   "execution_count": 19,
   "metadata": {},
   "outputs": [
    {
     "data": {
      "image/png": "[encoded data removed]",
      "text/plain": [
       "<Figure size 500x200 with 1 Axes>"
      ]
     },
     "metadata": {},
     "output_type": "display_data"
    }
   ],
   "source": [
    "CURRENT_GSE = \"GSE20242\"\n",
    "gse = get_gse(CURRENT_GSE)\n",
    "\n",
    "platform = get_platform(CURRENT_GSE)\n",
    "for gsm_name, gsm in gse.gsms.items():\n",
    "    if not is_correct_array(gsm):\n",
    "        continue\n",
    "    array_save(gsm_name, gsm)\n",
    "\n",
    "    sample_meta = sample_meta_parse(gsm.metadata)\n",
    "    SAMPLES[CURRENT_GSE][gsm_name] = {\n",
    "        'sex': sample_meta['sex'].lower(),\n",
    "        'age': int(sample_meta['age']),\n",
    "        'tissue': 'blood',\n",
    "        'disease': 'healthy',\n",
    "        'platform': platform\n",
    "    }\n",
    "\n",
    "plot_age_ditribution(CURRENT_GSE)\n",
    "remove_gse(CURRENT_GSE)"
   ]
  },
  {
   "cell_type": "markdown",
   "metadata": {},
   "source": [
    "## 1.7. GSE22595\n",
    "\n",
    "**Methylation Pattern of Human Dermal Fibroblasts**\n",
    "\n",
    "In this study, we have analyzed DNA methylation changes upon aging of human dermal fibroblasts by using the HumanMethylation27 BeadChip assessing 27,578 unique CpG sites. Cells were isolated from skin samples donated by young (6-23 years) and elderly (60-73 years) patients undergoing surgical interventions. Strikingly, global DNA-methylation profiles of fibroblasts from the same anatomical site clustered closely together indicating that fibroblasts maintain positional memory even after in vitro culture."
   ]
  },
  {
   "cell_type": "code",
   "execution_count": 20,
   "metadata": {},
   "outputs": [
    {
     "data": {
      "image/png": "[encoded data removed]",
      "text/plain": [
       "<Figure size 500x200 with 1 Axes>"
      ]
     },
     "metadata": {},
     "output_type": "display_data"
    }
   ],
   "source": [
    "CURRENT_GSE = \"GSE22595\"\n",
    "gse = get_gse(CURRENT_GSE)\n",
    "\n",
    "platform = get_platform(CURRENT_GSE)\n",
    "for gsm_name, gsm in gse.gsms.items():\n",
    "    if not is_correct_array(gsm):\n",
    "        continue\n",
    "    array_save(gsm_name, gsm)\n",
    "\n",
    "    sample_meta = sample_meta_parse(gsm.metadata)\n",
    "    SAMPLES[CURRENT_GSE][gsm_name] = {\n",
    "        'sex': None,\n",
    "        'age': int(sample_meta['age'].split(' ')[0]),\n",
    "        'tissue': 'skin',\n",
    "        'disease': 'healthy',\n",
    "        'platform': platform\n",
    "    }\n",
    "\n",
    "plot_age_ditribution(CURRENT_GSE)\n",
    "remove_gse(CURRENT_GSE)"
   ]
  },
  {
   "cell_type": "markdown",
   "metadata": {},
   "source": [
    "## 1.8. GSE25892\n",
    "\n",
    "**Epigenetic Vestiges of Early Developmental Adversity: Child Stress Exposure and Adolescent DNA Methylation**\n",
    "\n",
    "Fifteen-year-old adolescents (N = 109) in a longitudinal study of child development were recruited to examine differences in DNA methylation in relation to parent reports of adversity during the adolescents’ infancy and preschool periods. Microarray technology applied to 28,000 cytosine–guanine dinucleotide sites within DNA derived from buccal epithelial cells showed differential methylation among adolescents whose parents reported high levels of stress during their children’s early lives. Maternal stressors in infancy and paternal stressors in the preschool years were most strongly predictive of differential methylation, and the patterning of such epigenetic marks varied by children’s gender. To the authors’ knowledge, this is the first report of prospective associations between adversities in early childhood and the epigenetic conformation of adolescents’ genomic DNA."
   ]
  },
  {
   "cell_type": "code",
   "execution_count": 21,
   "metadata": {},
   "outputs": [],
   "source": [
    "CURRENT_GSE = \"GSE25892\"\n",
    "gse = get_gse(CURRENT_GSE)"
   ]
  },
  {
   "cell_type": "code",
   "execution_count": 22,
   "metadata": {},
   "outputs": [
    {
     "data": {
      "text/plain": [
       "['bucca']"
      ]
     },
     "execution_count": 22,
     "metadata": {},
     "output_type": "execute_result"
    }
   ],
   "source": [
    "list(gse.phenotype_data['characteristics_ch1.6.tissue'].unique())"
   ]
  },
  {
   "cell_type": "code",
   "execution_count": 23,
   "metadata": {},
   "outputs": [
    {
     "name": "stdout",
     "output_type": "stream",
     "text": [
      "The length of GSE25892 is 0\n"
     ]
    }
   ],
   "source": [
    "\n",
    "\n",
    "platform = get_platform(CURRENT_GSE)\n",
    "for gsm_name, gsm in gse.gsms.items():\n",
    "    if not is_correct_array(gsm):\n",
    "        continue\n",
    "    array_save(gsm_name, gsm)\n",
    "\n",
    "    sample_meta = sample_meta_parse(gsm.metadata)\n",
    "    SAMPLES[CURRENT_GSE][gsm_name] = {\n",
    "        'sex': sample_meta['gender'].lower(),\n",
    "        'age': int(sample_meta['age'].split(' ')[0]),\n",
    "        'tissue': 'skin',\n",
    "        'disease': 'healthy',\n",
    "        'platform': platform,\n",
    "    }\n",
    "\n",
    "plot_age_ditribution(CURRENT_GSE)\n",
    "remove_gse(CURRENT_GSE)"
   ]
  },
  {
   "cell_type": "markdown",
   "metadata": {},
   "source": [
    "## 1.9. GSE26033 (NO AGE)\n",
    "\n",
    "**A Genome-wide Study of DNA Methylation Patterns and Gene Expression Levels in Multiple Human and Chimpanzee Tissues**\n",
    "\n",
    "It has long been hypothesized that changes in gene regulation have played an important role in primate evolution. However, despite the wealth of comparative gene expression data, there are still only few studies that focus on the mechanisms underlying inter-primate differences in gene regulation. In particular, we know relatively little about the degree to which changes in epigenetic profiles might explain differences in gene expression levels between primates. To this end, we studied DNA methylation and gene expression levels in livers, hearts, and kidneys from multiple humans and chimpanzees.\n",
    "\n",
    "Genome wide DNA methylation profiling of heart, kidney, and liver samples from humans and chimpanzees. The Illumina Infinium 27K Human DNA Methylation BeadChip v1.2 was used to compare DNA methylation profiles across approximately 10,575 CpG sites in human and chimpanzee tissue samples. Samples included 6 human livers, 6 human kidneys, 6 human heart, 6 chimpanzee livers, 6 chimpanzee kidneys, and 6 chimpanzee hearts. Two techical replicates of bisulfite converted DNA from each of the 36 samples was hybridized to the Illumina HumanMethylation27 Beadchip. We limited our analysis to the 10,575 probes that were a perfect sequence match to both the human and chimpanzee genomes and which were associated with genes for which we had previously collected expression measurements across the three tissues.\n"
   ]
  },
  {
   "cell_type": "markdown",
   "metadata": {},
   "source": [
    "## 1.10. GSE26126\n",
    "\n",
    "**DNA methylation profiling reveals novel biomarkers and important roles for DNA methyltransferases in prostate cancer**\n",
    "\n",
    "Genome wide DNA methylation profiling of normal and tumor prostate samples, as well as cultured primary prostate cells overexpressing DNA Methyltransferases (DNMTs) and EZH2\n",
    "Candidate gene based studies have identified a handful of aberrant CpG DNA methylation events in prostate cancer. However, DNA methylation profiles have not been compared on a large scale between prostate tumor and normal prostate, and the mechanisms behind these alterations are unknown. In this study, we quantitatively profiled 95 primary prostate tumors and 86 healthy prostate tissue samples for their DNA methylation levels at 26,333 CpGs representing 14,104 gene promoters by using the Illumina HumanMethylation27 platform. A 2-class Significance Analysis of this dataset revealed 5,912 CpG sites with increased DNA methylation and 2,151 CpG sites with decreased DNA methylation in tumors (FDR < 0.8%). Prediction Analysis of this dataset identified 87 CpGs that are the most predictive diagnostic methylation biomarkers of prostate cancer. By integrating available clinical follow-up data, we also identified 69 prognostic DNA methylation alterations that correlate with biochemical recurrence of the tumor. To identify the mechanisms responsible for these genome-wide DNA methylation alterations, we measured the gene expression levels of several DNA methyltransferases (DNMTs) and their interacting proteins by TaqMan qPCR and observed increased expression of DNMT3A2, DNMT3B, and EZH2 in tumors. Subsequent transient transfection assays in cultured primary prostate cells revealed that DNMT3B1 and DNMT3B2 overexpression resulted in increased methylation of a substantial subset of CpG sites that also showed tumor-specific increased methylation.\n",
    "\n",
    "Bisulfite converted DNA from 193 samples were hybridized to the Illumina Infinium 27k Human Methylation Beadchip v1.2.\n",
    "The tissue samples (first 181) and the cultured cell samples (last 12) were normalized independently."
   ]
  },
  {
   "cell_type": "code",
   "execution_count": 24,
   "metadata": {},
   "outputs": [
    {
     "data": {
      "image/png": "[encoded data removed]",
      "text/plain": [
       "<Figure size 500x200 with 1 Axes>"
      ]
     },
     "metadata": {},
     "output_type": "display_data"
    }
   ],
   "source": [
    "CURRENT_GSE = \"GSE26126\"\n",
    "gse = get_gse(CURRENT_GSE)\n",
    "\n",
    "platform = get_platform(CURRENT_GSE)\n",
    "for gsm_name, gsm in gse.gsms.items():\n",
    "    if not is_correct_array(gsm):\n",
    "        continue\n",
    "    array_save(gsm_name, gsm)\n",
    "\n",
    "    sample_meta = sample_meta_parse(gsm.metadata)\n",
    "    if sample_meta.get('age') is None:\n",
    "        continue\n",
    "    SAMPLES[CURRENT_GSE][gsm_name] = {\n",
    "        'sex': sample_meta['gender'].lower(),\n",
    "        'age': int(sample_meta['age'].split(' ')[0]),\n",
    "        'tissue': 'prostate',\n",
    "        'disease': 'healthy' if sample_meta['disease state'] == 'Normal' else 'cancer',\n",
    "        'platform': platform\n",
    "    }\n",
    "\n",
    "plot_age_ditribution(CURRENT_GSE)\n",
    "remove_gse(CURRENT_GSE)"
   ]
  },
  {
   "cell_type": "markdown",
   "metadata": {},
   "source": [
    "## 1.11. GSE26974 (NO AGE)\n",
    "\n",
    "**Sperm DNA methylation**\n",
    "\n",
    "Sperm DNA and mRNA were isolated from 21 men with a range of semen parameters presenting to a tertiary male reproductive health clinic. DNA methylation was measured with the Illumina Infinium array at 27,000 CpG loci. Unsupervised clustering of methylation data differentiated the 21 sperm samples by their motility values.\n"
   ]
  },
  {
   "cell_type": "markdown",
   "metadata": {},
   "source": [
    "## 1.12. GSE27097\n",
    "\n",
    "**Pediatric age-associated DNA methylation**\n",
    "\n",
    "DNA methylation (DNAm) plays diverse roles in human biology, but this dynamic epigenetic mark remains far from fully characterized. Although earlier studies uncovered loci that undergo age-associated DNAm changes in adults, little is known about such changes during childhood. Despite profound DNAm plasticity during embryogenesis and early development, monozygotic twins show indistinguishable childhood methylation, suggesting DNAm is highly coordinated during the pediatric period. Here we examine the methylation of 27,578 CpG dinucleotides in peripheral blood DNA from 398 boys, aged 3 to 17 years, and find significant age-associated changes in DNAm at 2,078 loci. We report a deficit of such loci on the X chromosome, a preference for specific nucleotides immediately surrounding the interrogated CpG dinucleotide, and a primary association with developmental and immune ontological functions. These pediatric age-associated loci overlap significantly with those previously identified in adults (p < 0.001) but most of the pediatric loci are unique, suggesting many are childhood-specific. Meta-analysis (n = 1080) with two adult studies reveals that the methylation changes in 29.5% of the age-associated pediatric loci follow a linear pattern from childhood into adulthood; however, we also find a three-fold higher rate of change in children compared with adults and that a higher proportion of lifelong changes are more accurately modeled as a function of logarithmic age. We therefore conclude that DNAm changes occur more rapidly during childhood and are imperfectly accounted for by statistical corrections that are linear in age, further suggesting that future DNAm studies are matched closely for age."
   ]
  },
  {
   "cell_type": "code",
   "execution_count": 25,
   "metadata": {},
   "outputs": [
    {
     "data": {
      "image/png": "[encoded data removed]",
      "text/plain": [
       "<Figure size 500x200 with 1 Axes>"
      ]
     },
     "metadata": {},
     "output_type": "display_data"
    }
   ],
   "source": [
    "CURRENT_GSE = \"GSE27097\"\n",
    "gse = get_gse(CURRENT_GSE)\n",
    "\n",
    "platform = get_platform(CURRENT_GSE)\n",
    "for gsm_name, gsm in gse.gsms.items():\n",
    "    if not is_correct_array(gsm):\n",
    "        continue\n",
    "    array_save(gsm_name, gsm)\n",
    "\n",
    "    sample_meta = sample_meta_parse(gsm.metadata)\n",
    "    age = sample_meta.get('age at collection (months)')\n",
    "    if age is None:\n",
    "        continue\n",
    "    SAMPLES[CURRENT_GSE][gsm_name] = {\n",
    "        'sex': sample_meta['gender'].lower(),\n",
    "        'age': int(sample_meta['age at collection (months)']) // 12,\n",
    "        'tissue': 'blood',\n",
    "        'disease': 'healthy',\n",
    "        'platform': platform\n",
    "    }\n",
    "\n",
    "plot_age_ditribution(CURRENT_GSE)\n",
    "remove_gse(CURRENT_GSE)"
   ]
  },
  {
   "cell_type": "markdown",
   "metadata": {},
   "source": [
    "## 1.13. GSE27317\n",
    "\n",
    "**Correlation between maternal age and newborn DNA methylation**\n",
    "\n",
    "Using a genome-wide survey of 27,578 CpG dinucleotides in a cohort of 168 newborns, we examined the relationship between DNA methylation in newborns and a variety of parental and newborn traits. We found that methylation levels of 144 CpGs belonging to 142 genes were significantly correlated with maternal age. A weaker correlation was observed with paternal age. Among these genes, processes related to cancer were over-represented, as were functions related to neurological regulation, glucose/carbohydrate metabolism, nucleocytoplasmic transport, and transcriptional regulation. CpGs exhibiting gender differences in methylation were overwhelmingly located on the X chromosome, although a small subset of autosomal CpGs were found in genes previously shown to exhibit gender-specific differences in methylation levels. Conclusions: These results indicate that there are differences in CpG methylation levels at birth that are related to parental age and that could influence disease risk in childhood and throughout life."
   ]
  },
  {
   "cell_type": "code",
   "execution_count": 26,
   "metadata": {},
   "outputs": [
    {
     "data": {
      "image/png": "[encoded data removed]",
      "text/plain": [
       "<Figure size 500x200 with 1 Axes>"
      ]
     },
     "metadata": {},
     "output_type": "display_data"
    }
   ],
   "source": [
    "CURRENT_GSE = \"GSE27317\"\n",
    "gse = get_gse(CURRENT_GSE)\n",
    "\n",
    "platform = get_platform(CURRENT_GSE)\n",
    "for gsm_name, gsm in gse.gsms.items():\n",
    "    if not is_correct_array(gsm):\n",
    "        continue\n",
    "    array_save(gsm_name, gsm)\n",
    "\n",
    "    sample_meta = sample_meta_parse(gsm.metadata)\n",
    "    SAMPLES[CURRENT_GSE][gsm_name] = {\n",
    "        'sex': sample_meta['gender'].lower(),\n",
    "        'age': int(sample_meta['maternal age (year)']),\n",
    "        'tissue': 'blood',\n",
    "        'disease': 'healthy',\n",
    "        'platform': platform\n",
    "    }\n",
    "\n",
    "plot_age_ditribution(CURRENT_GSE)\n",
    "remove_gse(CURRENT_GSE)"
   ]
  },
  {
   "cell_type": "markdown",
   "metadata": {},
   "source": [
    "## 1.14. GSE28746\n",
    "\n",
    "**Epigenome analysis of male identical twin pairs discordant for sexual orientation, age 21 to 55**\n",
    "\n",
    "Genome wide DNA methylation profiling of saliva samples from male identical twins discordant for sexual orientation, age 21 to 55. The Illumina Infinium 27k Human DNA methylation Beadchip v1.2 was used to obtain DNA methylation profiles across approximately 27,000 CpGs in bisulfite converted DNA. Samples included 34 pairs of identical twins and one set of identical triplets, and 13 hybridisations were technical replicates of a selection of those samples.\n"
   ]
  },
  {
   "cell_type": "code",
   "execution_count": 27,
   "metadata": {},
   "outputs": [
    {
     "data": {
      "image/png": "[encoded data removed]",
      "text/plain": [
       "<Figure size 500x200 with 1 Axes>"
      ]
     },
     "metadata": {},
     "output_type": "display_data"
    }
   ],
   "source": [
    "CURRENT_GSE = \"GSE28746\"\n",
    "gse = get_gse(CURRENT_GSE)\n",
    "\n",
    "platform = get_platform(CURRENT_GSE)\n",
    "for gsm_name, gsm in gse.gsms.items():\n",
    "    if not is_correct_array(gsm):\n",
    "        continue\n",
    "    array_save(gsm_name, gsm)\n",
    "    \n",
    "    sample_meta = sample_meta_parse(gsm.metadata)\n",
    "    SAMPLES[CURRENT_GSE][gsm_name] = {\n",
    "        'sex': 'male',\n",
    "        'age': int(sample_meta['age']),\n",
    "        'tissue': 'saliva',\n",
    "        'disease': 'healthy',\n",
    "        'platform': platform\n",
    "    }\n",
    "\n",
    "plot_age_ditribution(CURRENT_GSE)\n",
    "remove_gse(CURRENT_GSE)"
   ]
  },
  {
   "cell_type": "markdown",
   "metadata": {},
   "source": [
    "## 1.15. GSE30090 (CELLS)\n",
    "\n",
    "**A promoter DNA demethylation landscape of human hematopoietic differentiation**\n",
    "\n",
    "Global mechanisms defining the gene expression programs specific for hematopoiesis are still not fully understood. Here, we show that promoter DNA demethylation is associated the activation of hematopoietic-specific genes. Using genome-wide promoter methylation arrays, we identified 694 hematopoietic-specific genes repressed by promoter DNA methylation in human ESCs and whose loss of methylation in hematopoietic can be associated with gene expression. The association between promoter methylation and gene expression was studied for many hematopoietic-specific genes including CD45, CD34, CD28, CD19, the T cell receptor (TCR), the MHC class II gene HLA-DR, perforin 1, and the phosphoinositide 3-kinase (PI3K) and results indicated that DNA demethylation was not always sufficient for gene activation. Promoter demethylation occurred either early during embryonic development or later on during hematopoietic differentiation. Analysis of the genome-wide promoter methylation status of induced pluripotent stem cells (iPSCs) generated from somatic CD34+ HSPCs and differentiated derivatives from CD34+ HSPCs confirmed the role of DNA methylation in regulating the expression of genes of the hemato-immune system, and indicated that promoter methylation of these genes may be associated to stemness. Together, these data suggest that promoter DNA demethylation might play a role in the tissue/cell-specific genome-wide gene regulation within the hematopoietic compartment.\n"
   ]
  },
  {
   "cell_type": "code",
   "execution_count": 8,
   "metadata": {},
   "outputs": [],
   "source": [
    "CURRENT_GSE = \"GSE30090\"\n",
    "gse = get_gse(CURRENT_GSE)"
   ]
  },
  {
   "cell_type": "code",
   "execution_count": 9,
   "metadata": {},
   "outputs": [
    {
     "data": {
      "text/plain": [
       "source_name_ch1\n",
       "human embryonic stem cell                    10\n",
       "colon normal tissue                           2\n",
       "bone normal tissue                            2\n",
       "fat primary tissue                            2\n",
       "muscle primary tissue                         2\n",
       "liver primary tissue                          2\n",
       "thyroid primary tissue                        2\n",
       "brain primary tissue                          2\n",
       "peripheral blood                              2\n",
       "pool neutrophils                              1\n",
       "pool B cells                                  1\n",
       "pool CD4 cells                                1\n",
       "pool CD8 cells                                1\n",
       "pool natural killers                          1\n",
       "pool CD34+ cord blood                         1\n",
       "CD34+ differentiation                         1\n",
       "induced pluripotent stem cells from CD34+     1\n",
       "Name: count, dtype: int64"
      ]
     },
     "execution_count": 9,
     "metadata": {},
     "output_type": "execute_result"
    }
   ],
   "source": [
    "gse.phenotype_data['source_name_ch1'].value_counts()"
   ]
  },
  {
   "cell_type": "code",
   "execution_count": 10,
   "metadata": {},
   "outputs": [
    {
     "name": "stdout",
     "output_type": "stream",
     "text": [
      "11 samples saved\n"
     ]
    }
   ],
   "source": [
    "for gsm_name, gsm in gse.gsms.items():\n",
    "    cell_line = gsm.metadata['source_name_ch1'][0].lower()\n",
    "    if 'embryonic' not in cell_line and 'pluripotent' not in cell_line:\n",
    "        continue\n",
    "    if not is_correct_array(gsm):\n",
    "        continue\n",
    "    array_cells_save(gsm_name, gsm)\n",
    "    SAMPLES_CELLS[CURRENT_GSE][gsm_name] = {\n",
    "        'cell_type': cell_line,\n",
    "        'platform': get_platform(CURRENT_GSE)\n",
    "    }\n",
    "\n",
    "print(f\"{len(SAMPLES_CELLS[CURRENT_GSE])} samples saved\")\n",
    "remove_gse(CURRENT_GSE)"
   ]
  },
  {
   "cell_type": "markdown",
   "metadata": {},
   "source": [
    "## 1.16. GSE30456 (CELLS)\n",
    "\n",
    "**Maintenance of hESCs in mesenchymal stem cell-conditioned media augments hematopoietic specification**"
   ]
  },
  {
   "cell_type": "code",
   "execution_count": 11,
   "metadata": {},
   "outputs": [],
   "source": [
    "CURRENT_GSE = \"GSE30456\"\n",
    "gse = get_gse(CURRENT_GSE)"
   ]
  },
  {
   "cell_type": "code",
   "execution_count": 12,
   "metadata": {},
   "outputs": [
    {
     "data": {
      "text/plain": [
       "characteristics_ch1.0.cell type\n",
       "human embryonic stem cell    6\n",
       "Name: count, dtype: int64"
      ]
     },
     "execution_count": 12,
     "metadata": {},
     "output_type": "execute_result"
    }
   ],
   "source": [
    "gse.phenotype_data['characteristics_ch1.0.cell type'].value_counts()"
   ]
  },
  {
   "cell_type": "code",
   "execution_count": 13,
   "metadata": {},
   "outputs": [
    {
     "name": "stdout",
     "output_type": "stream",
     "text": [
      "6 samples saved\n"
     ]
    }
   ],
   "source": [
    "for gsm_name, gsm in gse.gsms.items():\n",
    "    sample_meta = sample_meta_parse(gsm.metadata)\n",
    "    cell_type = sample_meta['cell type']\n",
    "    if not is_correct_array(gsm):\n",
    "        continue\n",
    "    array_cells_save(gsm_name, gsm)\n",
    "    SAMPLES_CELLS[CURRENT_GSE][gsm_name] = {\n",
    "        'cell_type': cell_type,\n",
    "        'platform': get_platform(CURRENT_GSE)\n",
    "    }\n",
    "\n",
    "print(f\"{len(SAMPLES_CELLS[CURRENT_GSE])} samples saved\")\n",
    "remove_gse(CURRENT_GSE)"
   ]
  },
  {
   "cell_type": "markdown",
   "metadata": {},
   "source": [
    "## 1.17. GSE30601 (NO AGE)\n",
    "\n",
    "**Epigenetic analysis of gastric cancer**\n",
    "\n",
    "Genome-wide DNA methylation profiling of gastric tumors and matched gastric non-malignant samples. The Illumina HumanMethylation27 BeadChip was used to obtain DNA methylation profiles across 27,578 CpGs in 203 gastric tumors and 94 matched non-malignant gastric samples."
   ]
  },
  {
   "cell_type": "markdown",
   "metadata": {},
   "source": [
    "## 1.18. GSE30653 (CELLS)\n",
    "\n",
    "**Recurrent Variations in DNA Methylation in Human Pluripotent Stem Cells and their Differentiated Derivatives**\n",
    "\n",
    "Human pluripotent stem cells (hPSCs) are potential sources of cells for modeling disease and development, drug discovery, and regenerative medicine. However, it is important to identify factors that may impact the utility of hPSCs for these applications. In an unbiased analysis of 205 hPSC and 130 somatic samples, we identified hPSC-specific epigenetic and transcriptional aberrations in genes subject to X chromosome inactivation (XCI) and genomic imprinting, which were not corrected during directed differentiation. We also found that specific tissue types were distinguished by unique patterns of DNA hypomethylation, which were recapitulated by DNA demethylation during in vitro directed differentiation. Our results suggest that verification of baseline epigenetic status is critical for hPSC-based disease models in which the observed phenotype depends on proper XCI or imprinting, and that tissue-specific DNA methylation patterns can be accurately modeled during directed differentiation of hPSCs, even in the presence of variations in XCI or imprinting."
   ]
  },
  {
   "cell_type": "code",
   "execution_count": 14,
   "metadata": {},
   "outputs": [],
   "source": [
    "CURRENT_GSE = \"GSE30653\"\n",
    "gse = get_gse(CURRENT_GSE)"
   ]
  },
  {
   "cell_type": "code",
   "execution_count": 15,
   "metadata": {},
   "outputs": [
    {
     "data": {
      "text/plain": [
       "characteristics_ch1.2.cell type\n",
       "embryonic stem cell, undifferentiated                   118\n",
       "Somatic.Tissue                                           51\n",
       "Somatic.Primary                                          49\n",
       "induced pluripotent stem cell, undifferentiated          46\n",
       "parthenogentic embryonic stem cell, undifferentiated      7\n",
       "Name: count, dtype: int64"
      ]
     },
     "execution_count": 15,
     "metadata": {},
     "output_type": "execute_result"
    }
   ],
   "source": [
    "gse.phenotype_data['characteristics_ch1.2.cell type'].value_counts()"
   ]
  },
  {
   "cell_type": "code",
   "execution_count": 16,
   "metadata": {},
   "outputs": [
    {
     "name": "stdout",
     "output_type": "stream",
     "text": [
      "171 samples saved\n"
     ]
    }
   ],
   "source": [
    "for gsm_name, gsm in gse.gsms.items():\n",
    "    sample_meta = sample_meta_parse(gsm.metadata)\n",
    "    cell_type = sample_meta.get('cell type')\n",
    "    if cell_type is None:\n",
    "        continue\n",
    "    if 'embryonic' not in cell_type and 'pluripotent' not in cell_type:\n",
    "        continue\n",
    "    if not is_correct_array(gsm):\n",
    "        continue\n",
    "    array_cells_save(gsm_name, gsm)\n",
    "    SAMPLES_CELLS[CURRENT_GSE][gsm_name] = {\n",
    "        'cell_type': cell_type,\n",
    "        'platform': get_platform(CURRENT_GSE)\n",
    "    }\n",
    "\n",
    "print(f\"{len(SAMPLES_CELLS[CURRENT_GSE])} samples saved\")\n",
    "remove_gse(CURRENT_GSE)"
   ]
  },
  {
   "cell_type": "markdown",
   "metadata": {},
   "source": [
    "## 1.19. GSE30758\n",
    "\n",
    "**Epigenome analysis of normal cells from the uterine cervix in a nested prospective case control study within the ARTISTIC trial**"
   ]
  },
  {
   "cell_type": "code",
   "execution_count": 37,
   "metadata": {},
   "outputs": [
    {
     "data": {
      "image/png": "[encoded data removed]",
      "text/plain": [
       "<Figure size 500x200 with 1 Axes>"
      ]
     },
     "metadata": {},
     "output_type": "display_data"
    }
   ],
   "source": [
    "CURRENT_GSE = \"GSE30758\"\n",
    "gse = get_gse(CURRENT_GSE)\n",
    "\n",
    "platform = get_platform(CURRENT_GSE)\n",
    "for gsm_name, gsm in gse.gsms.items():\n",
    "    if not is_correct_array(gsm):\n",
    "        continue\n",
    "    array_save(gsm_name, gsm)\n",
    "\n",
    "    sample_meta = sample_meta_parse(gsm.metadata)\n",
    "    SAMPLES[CURRENT_GSE][gsm_name] = {\n",
    "        'sex': 'female',\n",
    "        'age': int(sample_meta['age']),\n",
    "        'tissue': 'uterus',\n",
    "        'disease': 'healthy',\n",
    "        'platform': platform\n",
    "    }\n",
    "\n",
    "plot_age_ditribution(CURRENT_GSE)\n",
    "remove_gse(CURRENT_GSE)"
   ]
  },
  {
   "cell_type": "markdown",
   "metadata": {},
   "source": [
    "## 1.20. GSE30870\n",
    "\n",
    "**DNA methylomes of Newborns and Nonagenarians**"
   ]
  },
  {
   "cell_type": "code",
   "execution_count": 38,
   "metadata": {},
   "outputs": [
    {
     "data": {
      "image/png": "[encoded data removed]",
      "text/plain": [
       "<Figure size 500x200 with 1 Axes>"
      ]
     },
     "metadata": {},
     "output_type": "display_data"
    }
   ],
   "source": [
    "CURRENT_GSE = \"GSE30870\"\n",
    "gse = get_gse(CURRENT_GSE)\n",
    "\n",
    "platform = get_platform(CURRENT_GSE)\n",
    "for gsm_name, gsm in gse.gsms.items():\n",
    "    if not is_correct_array(gsm):\n",
    "        continue\n",
    "    array_save(gsm_name, gsm)\n",
    "\n",
    "    sample_meta = sample_meta_parse(gsm.metadata)\n",
    "    age = sample_meta['age'].split(' ')[0]\n",
    "    SAMPLES[CURRENT_GSE][gsm_name] = {\n",
    "        'sex': None,\n",
    "        'age': int(age) if age != 'Newborn' else 0,\n",
    "        'tissue': 'blood',\n",
    "        'disease': 'healthy',\n",
    "        'platform': platform\n",
    "    }\n",
    "\n",
    "plot_age_ditribution(CURRENT_GSE)\n",
    "remove_gse(CURRENT_GSE)"
   ]
  },
  {
   "cell_type": "markdown",
   "metadata": {},
   "source": [
    "## 1.21. GSE31848 (CELLS)"
   ]
  },
  {
   "cell_type": "code",
   "execution_count": 17,
   "metadata": {},
   "outputs": [],
   "source": [
    "CURRENT_GSE = \"GSE31848\"\n",
    "gse = get_gse(CURRENT_GSE)"
   ]
  },
  {
   "cell_type": "code",
   "execution_count": 18,
   "metadata": {},
   "outputs": [
    {
     "data": {
      "text/plain": [
       "characteristics_ch1.2.cell type\n",
       "Somatic.Tissue                                                                    60\n",
       "induced pluripotent stem cell, undifferentiated                                   29\n",
       "Somatic.Primary                                                                   22\n",
       "embryonic stem cell, undifferentiated                                             19\n",
       "parthenogentic embryonic stem cell, undifferentiated                               6\n",
       "Mole                                                                               5\n",
       "embryonic stem cell, differentiated;spontaneous.day3                               3\n",
       "induced pluripotent stem cell, differentiated;NeuralProgenitors.day23              3\n",
       "induced pluripotent stem cell, differentiated;OligodendrocyteProgenitors.day42     2\n",
       "embryonic stem cell, differentiated;NeuralProgenitors.day22                        2\n",
       "embryonic stem cell, differentiated;OligodendrocyteProgenitors.day42               1\n",
       "induced pluripotent stem cell, differentiated;NeuralProgenitors.day22              1\n",
       "Name: count, dtype: int64"
      ]
     },
     "execution_count": 18,
     "metadata": {},
     "output_type": "execute_result"
    }
   ],
   "source": [
    "gse.phenotype_data['characteristics_ch1.2.cell type'].value_counts()"
   ]
  },
  {
   "cell_type": "code",
   "execution_count": 19,
   "metadata": {},
   "outputs": [
    {
     "name": "stdout",
     "output_type": "stream",
     "text": [
      "48 samples saved\n"
     ]
    }
   ],
   "source": [
    "for gsm_name, gsm in gse.gsms.items():\n",
    "    sample_meta = sample_meta_parse(gsm.metadata)\n",
    "    cell_type = sample_meta.get('cell type')\n",
    "    if cell_type is None:\n",
    "        continue\n",
    "    if cell_type != 'induced pluripotent stem cell, undifferentiated' and cell_type != 'embryonic stem cell, undifferentiated':\n",
    "        continue\n",
    "    if not is_correct_array(gsm):\n",
    "        continue\n",
    "    array_cells_save(gsm_name, gsm)\n",
    "    SAMPLES_CELLS[CURRENT_GSE][gsm_name] = {\n",
    "        'cell_type': cell_type,\n",
    "        'platform': get_platform(CURRENT_GSE)\n",
    "    }\n",
    "\n",
    "print(f\"{len(SAMPLES_CELLS[CURRENT_GSE])} samples saved\")\n",
    "remove_gse(CURRENT_GSE)"
   ]
  },
  {
   "cell_type": "markdown",
   "metadata": {},
   "source": [
    "## 1.22. GSE32146\n",
    "\n",
    "**DNA methylation in a discovery cohort of colon mucosa samples from individuals with Crohns' disease or ulcerative colitis and normal controls**"
   ]
  },
  {
   "cell_type": "code",
   "execution_count": 39,
   "metadata": {},
   "outputs": [
    {
     "data": {
      "image/png": "[encoded data removed]",
      "text/plain": [
       "<Figure size 500x200 with 1 Axes>"
      ]
     },
     "metadata": {},
     "output_type": "display_data"
    }
   ],
   "source": [
    "CURRENT_GSE = \"GSE32146\"\n",
    "gse = get_gse(CURRENT_GSE)\n",
    "\n",
    "platform = get_platform(CURRENT_GSE)\n",
    "for gsm_name, gsm in gse.gsms.items():\n",
    "    if not is_correct_array(gsm):\n",
    "        continue\n",
    "    array_save(gsm_name, gsm)\n",
    "\n",
    "    sample_meta = sample_meta_parse(gsm.metadata)\n",
    "    age = float(sample_meta['age (y)'].split(' ')[0])\n",
    "    SAMPLES[CURRENT_GSE][gsm_name] = {\n",
    "        'sex': sample_meta['gender'].lower(),\n",
    "        'age': int(age),\n",
    "        'tissue': 'colon',\n",
    "        'disease': 'healthy' if sample_meta['disease state'] == 'normal' else \"Crohn's disease\",\n",
    "        'platform': platform\n",
    "    }\n",
    "\n",
    "plot_age_ditribution(CURRENT_GSE)\n",
    "remove_gse(CURRENT_GSE)"
   ]
  },
  {
   "cell_type": "markdown",
   "metadata": {},
   "source": [
    "## 1.23. GSE32149"
   ]
  },
  {
   "cell_type": "code",
   "execution_count": 40,
   "metadata": {},
   "outputs": [
    {
     "data": {
      "image/png": "[encoded data removed]",
      "text/plain": [
       "<Figure size 500x200 with 1 Axes>"
      ]
     },
     "metadata": {},
     "output_type": "display_data"
    }
   ],
   "source": [
    "CURRENT_GSE = \"GSE32149\"\n",
    "gse = get_gse(CURRENT_GSE)\n",
    "\n",
    "platform = get_platform(CURRENT_GSE)\n",
    "for gsm_name, gsm in gse.gsms.items():\n",
    "    if not is_correct_array(gsm):\n",
    "        continue\n",
    "    array_save(gsm_name, gsm)\n",
    "\n",
    "    sample_meta = sample_meta_parse(gsm.metadata)\n",
    "    age = sample_meta['age (y)'].split(' ')[0]\n",
    "    if age == 'N/A':\n",
    "        continue\n",
    "    SAMPLES[CURRENT_GSE][gsm_name] = {\n",
    "        'sex': sample_meta['gender'].lower(),\n",
    "        'age': int(float(age)),\n",
    "        'tissue': 'blood',\n",
    "        'disease': 'healthy' if sample_meta['disease state'] == 'normal' else \"Crohn's disease\",\n",
    "        'platform': platform\n",
    "    }\n",
    "\n",
    "plot_age_ditribution(CURRENT_GSE)\n",
    "remove_gse(CURRENT_GSE)"
   ]
  },
  {
   "cell_type": "markdown",
   "metadata": {},
   "source": [
    "## 1.24. GSE32393"
   ]
  },
  {
   "cell_type": "code",
   "execution_count": 41,
   "metadata": {},
   "outputs": [
    {
     "data": {
      "image/png": "[encoded data removed]",
      "text/plain": [
       "<Figure size 500x200 with 1 Axes>"
      ]
     },
     "metadata": {},
     "output_type": "display_data"
    }
   ],
   "source": [
    "CURRENT_GSE = \"GSE32393\"\n",
    "gse = get_gse(CURRENT_GSE)\n",
    "\n",
    "platform = get_platform(CURRENT_GSE)\n",
    "for gsm_name, gsm in gse.gsms.items():\n",
    "    if not is_correct_array(gsm):\n",
    "        continue\n",
    "    array_save(gsm_name, gsm)\n",
    "\n",
    "    sample_meta = sample_meta_parse(gsm.metadata)\n",
    "    SAMPLES[CURRENT_GSE][gsm_name] = {\n",
    "        'sex': 'female',\n",
    "        'age': int(float(sample_meta['age'])),\n",
    "        'tissue': 'breast',\n",
    "        'disease': 'healthy' if sample_meta['status(0=healthy,1=cancer)'] == '0' else 'cancer',\n",
    "        'platform': platform\n",
    "    }\n",
    "\n",
    "plot_age_ditribution(CURRENT_GSE)\n",
    "remove_gse(CURRENT_GSE)"
   ]
  },
  {
   "cell_type": "markdown",
   "metadata": {},
   "source": [
    "## 1.25. GSE34035"
   ]
  },
  {
   "cell_type": "code",
   "execution_count": 42,
   "metadata": {},
   "outputs": [
    {
     "data": {
      "image/png": "[encoded data removed]",
      "text/plain": [
       "<Figure size 500x200 with 1 Axes>"
      ]
     },
     "metadata": {},
     "output_type": "display_data"
    }
   ],
   "source": [
    "CURRENT_GSE = \"GSE34035\"\n",
    "gse = get_gse(CURRENT_GSE)\n",
    "\n",
    "platform = get_platform(CURRENT_GSE)\n",
    "for gsm_name, gsm in gse.gsms.items():\n",
    "    if not is_correct_array(gsm):\n",
    "        continue\n",
    "    array_save(gsm_name, gsm)\n",
    "\n",
    "    sample_meta = sample_meta_parse(gsm.metadata)\n",
    "    SAMPLES[CURRENT_GSE][gsm_name] = {\n",
    "        'sex': 'male' if sample_meta['gender'] == 'M' else 'female',\n",
    "        'age': int(sample_meta['age']),\n",
    "        'tissue': 'saliva',\n",
    "        'disease': 'healthy',\n",
    "        'platform': platform\n",
    "    }\n",
    "\n",
    "plot_age_ditribution(CURRENT_GSE)\n",
    "remove_gse(CURRENT_GSE)"
   ]
  },
  {
   "cell_type": "markdown",
   "metadata": {},
   "source": [
    "## 1.26. GSE34257"
   ]
  },
  {
   "cell_type": "code",
   "execution_count": 43,
   "metadata": {},
   "outputs": [
    {
     "data": {
      "image/png": "[encoded data removed]",
      "text/plain": [
       "<Figure size 500x200 with 1 Axes>"
      ]
     },
     "metadata": {},
     "output_type": "display_data"
    }
   ],
   "source": [
    "CURRENT_GSE = \"GSE34257\"\n",
    "gse = get_gse(CURRENT_GSE)\n",
    "\n",
    "platform = get_platform(CURRENT_GSE)\n",
    "for gsm_name, gsm in gse.gsms.items():\n",
    "    if not is_correct_array(gsm):\n",
    "        continue\n",
    "    array_save(gsm_name, gsm)\n",
    "\n",
    "    sample_meta = sample_meta_parse(gsm.metadata)\n",
    "    if sample_meta['tissue'] != 'Peripheral blood':\n",
    "        continue\n",
    "\n",
    "    SAMPLES[CURRENT_GSE][gsm_name] = {\n",
    "        'sex': sample_meta['gender'],\n",
    "        'age': 0,\n",
    "        'tissue': 'blood',\n",
    "        'disease': 'healthy',\n",
    "        'platform': platform\n",
    "    }\n",
    "\n",
    "plot_age_ditribution(CURRENT_GSE)\n",
    "remove_gse(CURRENT_GSE)"
   ]
  },
  {
   "cell_type": "markdown",
   "metadata": {},
   "source": [
    "## 1.27. GSE34639"
   ]
  },
  {
   "cell_type": "code",
   "execution_count": 44,
   "metadata": {},
   "outputs": [
    {
     "name": "stdout",
     "output_type": "stream",
     "text": [
      "The length of GSE34639 is 0\n"
     ]
    }
   ],
   "source": [
    "CURRENT_GSE = \"GSE34639\"\n",
    "gse = get_gse(CURRENT_GSE)\n",
    "\n",
    "platform = get_platform(CURRENT_GSE)\n",
    "for gsm_name, gsm in gse.gsms.items():\n",
    "    if not is_correct_array(gsm):\n",
    "        continue\n",
    "    array_save(gsm_name, gsm)\n",
    "\n",
    "    sample_meta = sample_meta_parse(gsm.metadata)\n",
    "\n",
    "    SAMPLES[CURRENT_GSE][gsm_name] = {\n",
    "        'sex': sample_meta['gender'],\n",
    "        'age': int(sample_meta['age']),\n",
    "        'tissue': 'blood',\n",
    "        'disease': 'healthy',\n",
    "        'platform': platform\n",
    "    }\n",
    "\n",
    "plot_age_ditribution(CURRENT_GSE)\n",
    "remove_gse(CURRENT_GSE)"
   ]
  },
  {
   "cell_type": "markdown",
   "metadata": {},
   "source": [
    "## 1.28. GSE35069 (CELLS, BUT NOT EMBRYO)\n",
    "\n",
    "**Differential DNA Methylation in Purified Human Blood Cells**"
   ]
  },
  {
   "cell_type": "markdown",
   "metadata": {},
   "source": [
    "## 1.29. GSE36064\n",
    "\n",
    "**Methylation Profiling of Blood DNA from Healthy Children (Harvard Age Study)**"
   ]
  },
  {
   "cell_type": "code",
   "execution_count": 45,
   "metadata": {},
   "outputs": [],
   "source": [
    "CURRENT_GSE = \"GSE36064\"\n",
    "gse = get_gse(CURRENT_GSE)"
   ]
  },
  {
   "cell_type": "code",
   "execution_count": 46,
   "metadata": {},
   "outputs": [
    {
     "data": {
      "image/png": "[encoded data removed]",
      "text/plain": [
       "<Figure size 500x200 with 1 Axes>"
      ]
     },
     "metadata": {},
     "output_type": "display_data"
    }
   ],
   "source": [
    "platform = get_platform(CURRENT_GSE)\n",
    "for gsm_name, gsm in gse.gsms.items():\n",
    "    if not is_correct_array(gsm):\n",
    "        continue\n",
    "    array_save(gsm_name, gsm)\n",
    "\n",
    "    sample_meta = sample_meta_parse(gsm.metadata)\n",
    "\n",
    "    SAMPLES[CURRENT_GSE][gsm_name] = {\n",
    "        'sex': 'male' if sample_meta['gender'] == 'M' else 'female',\n",
    "        'age': int(sample_meta['age at collection months']) // 12,\n",
    "        'tissue': 'blood',\n",
    "        'disease': 'healthy',\n",
    "        'platform': platform\n",
    "    }\n",
    "\n",
    "plot_age_ditribution(CURRENT_GSE)\n",
    "remove_gse(CURRENT_GSE)"
   ]
  },
  {
   "cell_type": "markdown",
   "metadata": {},
   "source": [
    "## 1.30. GSE36166 (NO AGE)\n",
    "\n",
    "**Epigenetic analysis of healthy young men following a control and high-fat overfeeding diet**"
   ]
  },
  {
   "cell_type": "markdown",
   "metadata": {},
   "source": [
    "## 1.31. GSE36642\n",
    "\n",
    "**Neonatal DNA methylation profile in humans is specified by a complex interplay between intrauterine environmental/ genetic factors subject to tissue-specific influence**"
   ]
  },
  {
   "cell_type": "code",
   "execution_count": 47,
   "metadata": {},
   "outputs": [],
   "source": [
    "CURRENT_GSE = \"GSE36642\"\n",
    "gse = get_gse(CURRENT_GSE)"
   ]
  },
  {
   "cell_type": "code",
   "execution_count": 48,
   "metadata": {},
   "outputs": [
    {
     "data": {
      "text/plain": [
       "characteristics_ch1.5.gestational age (wk)\n",
       "0.0    123\n",
       "Name: count, dtype: int64"
      ]
     },
     "execution_count": 48,
     "metadata": {},
     "output_type": "execute_result"
    }
   ],
   "source": [
    "(gse.phenotype_data['characteristics_ch1.5.gestational age (wk)'].fillna(0).astype(float) // 12 // 4).value_counts()"
   ]
  },
  {
   "cell_type": "code",
   "execution_count": 49,
   "metadata": {},
   "outputs": [
    {
     "data": {
      "image/png": "[encoded data removed]",
      "text/plain": [
       "<Figure size 500x200 with 1 Axes>"
      ]
     },
     "metadata": {},
     "output_type": "display_data"
    }
   ],
   "source": [
    "platform = get_platform(CURRENT_GSE)\n",
    "for gsm_name, gsm in gse.gsms.items():\n",
    "    if not is_correct_array(gsm):\n",
    "        continue\n",
    "    array_save(gsm_name, gsm)\n",
    "\n",
    "    sample_meta = sample_meta_parse(gsm.metadata)\n",
    "    if sample_meta.get('tissue') == 'Placenta':\n",
    "        continue\n",
    "\n",
    "    if sample_meta['cell type'] == 'HUVEC':\n",
    "        continue\n",
    "\n",
    "    SAMPLES[CURRENT_GSE][gsm_name] = {\n",
    "        'sex': 'male' if sample_meta['gender'] == 'M' else 'female',\n",
    "        'age': 0,\n",
    "        'tissue': 'blood',\n",
    "        'disease': 'healthy',\n",
    "        'platform': platform\n",
    "    }\n",
    "\n",
    "plot_age_ditribution(CURRENT_GSE)\n",
    "remove_gse(CURRENT_GSE)"
   ]
  },
  {
   "cell_type": "markdown",
   "metadata": {},
   "source": [
    "## 1.32. GSE36812"
   ]
  },
  {
   "cell_type": "code",
   "execution_count": 50,
   "metadata": {},
   "outputs": [],
   "source": [
    "CURRENT_GSE = \"GSE36812\"\n",
    "gse = get_gse(CURRENT_GSE)"
   ]
  },
  {
   "cell_type": "code",
   "execution_count": 51,
   "metadata": {},
   "outputs": [
    {
     "data": {
      "text/plain": [
       "characteristics_ch1.3.tissue\n",
       "Cord Blood    48\n",
       "Name: count, dtype: int64"
      ]
     },
     "execution_count": 51,
     "metadata": {},
     "output_type": "execute_result"
    }
   ],
   "source": [
    "gse.phenotype_data['characteristics_ch1.3.tissue'].value_counts()"
   ]
  },
  {
   "cell_type": "code",
   "execution_count": 52,
   "metadata": {},
   "outputs": [
    {
     "data": {
      "image/png": "[encoded data removed]",
      "text/plain": [
       "<Figure size 500x200 with 1 Axes>"
      ]
     },
     "metadata": {},
     "output_type": "display_data"
    }
   ],
   "source": [
    "platform = get_platform(CURRENT_GSE)\n",
    "for gsm_name, gsm in gse.gsms.items():\n",
    "    if not is_correct_array(gsm):\n",
    "        continue\n",
    "    array_save(gsm_name, gsm)\n",
    "\n",
    "    sample_meta = sample_meta_parse(gsm.metadata)\n",
    "\n",
    "    SAMPLES[CURRENT_GSE][gsm_name] = {\n",
    "        'sex': None,\n",
    "        'age': 0,\n",
    "        'tissue': 'blood',\n",
    "        'disease': 'healthy',\n",
    "        'platform': platform\n",
    "    }\n",
    "\n",
    "plot_age_ditribution(CURRENT_GSE)\n",
    "remove_gse(CURRENT_GSE)"
   ]
  },
  {
   "cell_type": "markdown",
   "metadata": {},
   "source": [
    "## 1.33. GSE37008\n",
    "\n",
    "**Factors underlying variable DNA methylation in a human community cohort**"
   ]
  },
  {
   "cell_type": "code",
   "execution_count": 53,
   "metadata": {},
   "outputs": [],
   "source": [
    "CURRENT_GSE = \"GSE37008\"\n",
    "gse = get_gse(CURRENT_GSE)"
   ]
  },
  {
   "cell_type": "code",
   "execution_count": 54,
   "metadata": {},
   "outputs": [
    {
     "data": {
      "image/png": "[encoded data removed]",
      "text/plain": [
       "<Figure size 500x200 with 1 Axes>"
      ]
     },
     "metadata": {},
     "output_type": "display_data"
    }
   ],
   "source": [
    "platform = get_platform(CURRENT_GSE)\n",
    "for gsm_name, gsm in gse.gsms.items():\n",
    "    if not is_correct_array(gsm):\n",
    "        continue\n",
    "    array_save(gsm_name, gsm)\n",
    "\n",
    "    sample_meta = sample_meta_parse(gsm.metadata)\n",
    "    SAMPLES[CURRENT_GSE][gsm_name] = {\n",
    "        'sex': sample_meta['gender'].lower(),\n",
    "        'age': int(sample_meta['age (y)']),\n",
    "        'tissue': 'blood',\n",
    "        'disease': 'healthy',\n",
    "        'platform': platform\n",
    "    }\n",
    "\n",
    "plot_age_ditribution(CURRENT_GSE)\n",
    "remove_gse(CURRENT_GSE)"
   ]
  },
  {
   "cell_type": "markdown",
   "metadata": {},
   "source": [
    "## 1.34. GSE37066 (CELLS)\n",
    "\n",
    "**Pluripotent Stem Cells Escape From Senescence-Associated DNA Methylation Changes [Illumina]**"
   ]
  },
  {
   "cell_type": "code",
   "execution_count": 20,
   "metadata": {},
   "outputs": [],
   "source": [
    "CURRENT_GSE = \"GSE37066\"\n",
    "gse = get_gse(CURRENT_GSE)"
   ]
  },
  {
   "cell_type": "code",
   "execution_count": 21,
   "metadata": {},
   "outputs": [
    {
     "data": {
      "text/plain": [
       "characteristics_ch1.1.cell type\n",
       "mesenchymal stromal cells (MSC)    10\n",
       "iPSC                                6\n",
       "MSC                                 5\n",
       "Name: count, dtype: int64"
      ]
     },
     "execution_count": 21,
     "metadata": {},
     "output_type": "execute_result"
    }
   ],
   "source": [
    "gse.phenotype_data['characteristics_ch1.1.cell type'].value_counts()"
   ]
  },
  {
   "cell_type": "code",
   "execution_count": 22,
   "metadata": {},
   "outputs": [
    {
     "name": "stdout",
     "output_type": "stream",
     "text": [
      "0 samples saved\n"
     ]
    }
   ],
   "source": [
    "for gsm_name, gsm in gse.gsms.items():\n",
    "    sample_meta = sample_meta_parse(gsm.metadata)\n",
    "    cell_type = sample_meta.get('cell type')\n",
    "    \n",
    "    if cell_type is None:\n",
    "        continue\n",
    "    if cell_type != 'iPSC':\n",
    "        continue\n",
    "    \n",
    "    if not is_correct_array(gsm):\n",
    "        continue\n",
    "\n",
    "    array_save(gsm_name, gsm)\n",
    "    SAMPLES_CELLS[CURRENT_GSE][gsm_name] = {\n",
    "        'cell_type': cell_type,\n",
    "        'platform': get_platform(CURRENT_GSE)\n",
    "    }\n",
    "\n",
    "print(f\"{len(SAMPLES_CELLS[CURRENT_GSE])} samples saved\")\n",
    "remove_gse(CURRENT_GSE)"
   ]
  },
  {
   "cell_type": "markdown",
   "metadata": {},
   "source": [
    "## 1.35. GSE37988\n",
    "\n",
    "**Methylation in Taiwanese HCC tumor and adjacent tissues**"
   ]
  },
  {
   "cell_type": "code",
   "execution_count": 58,
   "metadata": {},
   "outputs": [],
   "source": [
    "CURRENT_GSE = \"GSE37988\"\n",
    "gse = get_gse(CURRENT_GSE)"
   ]
  },
  {
   "cell_type": "code",
   "execution_count": 59,
   "metadata": {},
   "outputs": [
    {
     "data": {
      "text/plain": [
       "characteristics_ch1.3.tissue\n",
       "liver    62\n",
       "Name: count, dtype: int64"
      ]
     },
     "execution_count": 59,
     "metadata": {},
     "output_type": "execute_result"
    }
   ],
   "source": [
    "gse.phenotype_data['characteristics_ch1.3.tissue'].value_counts()"
   ]
  },
  {
   "cell_type": "code",
   "execution_count": 60,
   "metadata": {},
   "outputs": [
    {
     "data": {
      "text/plain": [
       "characteristics_ch1.2.disease\n",
       "Hepatocellular carcinoma (HCC)    62\n",
       "NaN                               62\n",
       "Name: count, dtype: int64"
      ]
     },
     "execution_count": 60,
     "metadata": {},
     "output_type": "execute_result"
    }
   ],
   "source": [
    "gse.phenotype_data['characteristics_ch1.2.disease'].value_counts(dropna=False)"
   ]
  },
  {
   "cell_type": "code",
   "execution_count": 61,
   "metadata": {},
   "outputs": [
    {
     "data": {
      "image/png": "[encoded data removed]",
      "text/plain": [
       "<Figure size 500x200 with 1 Axes>"
      ]
     },
     "metadata": {},
     "output_type": "display_data"
    }
   ],
   "source": [
    "platform = get_platform(CURRENT_GSE)\n",
    "for gsm_name, gsm in gse.gsms.items():\n",
    "    if not is_correct_array(gsm):\n",
    "        continue\n",
    "    array_save(gsm_name, gsm)\n",
    "\n",
    "    sample_meta = sample_meta_parse(gsm.metadata)\n",
    "\n",
    "    age = int(sample_meta['age']) if sample_meta['age'] != 'NA' else None\n",
    "    if age is None:\n",
    "        continue\n",
    "    SAMPLES[CURRENT_GSE][gsm_name] = {\n",
    "        'sex': sample_meta['gender'].lower(),\n",
    "        'age': age,\n",
    "        'tissue': sample_meta['tissue'],\n",
    "        'disease': sample_meta.get('disease', 'healthy'),\n",
    "        'platform': platform\n",
    "    }\n",
    "\n",
    "plot_age_ditribution(CURRENT_GSE)\n",
    "remove_gse(CURRENT_GSE)"
   ]
  },
  {
   "cell_type": "markdown",
   "metadata": {},
   "source": [
    "# 1.36. GSE38291\n",
    "\n",
    "**Genome-Wide Analysis of DNA Methylation Differences in Muscle and Fat from Monozygotic Twins Discordant for Type 2 Diabetes**"
   ]
  },
  {
   "cell_type": "code",
   "execution_count": 62,
   "metadata": {},
   "outputs": [],
   "source": [
    "CURRENT_GSE = \"GSE38291\"\n",
    "gse = get_gse(CURRENT_GSE)"
   ]
  },
  {
   "cell_type": "code",
   "execution_count": 63,
   "metadata": {},
   "outputs": [
    {
     "data": {
      "text/plain": [
       "source_name_ch1\n",
       "vastus lateralis muscle        22\n",
       "subcutaneous adipose tissue    10\n",
       "Name: count, dtype: int64"
      ]
     },
     "execution_count": 63,
     "metadata": {},
     "output_type": "execute_result"
    }
   ],
   "source": [
    "gse.phenotype_data['source_name_ch1'].value_counts()"
   ]
  },
  {
   "cell_type": "code",
   "execution_count": 64,
   "metadata": {},
   "outputs": [
    {
     "data": {
      "text/plain": [
       "characteristics_ch1.0.type 2 diabetes status\n",
       "type 2 diabetic    16\n",
       "non-diabetic       16\n",
       "Name: count, dtype: int64"
      ]
     },
     "execution_count": 64,
     "metadata": {},
     "output_type": "execute_result"
    }
   ],
   "source": [
    "gse.phenotype_data['characteristics_ch1.0.type 2 diabetes status'].value_counts()"
   ]
  },
  {
   "cell_type": "code",
   "execution_count": 65,
   "metadata": {},
   "outputs": [
    {
     "data": {
      "image/png": "[encoded data removed]",
      "text/plain": [
       "<Figure size 500x200 with 1 Axes>"
      ]
     },
     "metadata": {},
     "output_type": "display_data"
    }
   ],
   "source": [
    "platform = get_platform(CURRENT_GSE)\n",
    "for gsm_name, gsm in gse.gsms.items():\n",
    "    if not is_correct_array(gsm):\n",
    "        continue\n",
    "    array_save(gsm_name, gsm)\n",
    "\n",
    "    sample_meta = sample_meta_parse(gsm.metadata)\n",
    "    \n",
    "    if sample_meta.get('Sex') is None or sample_meta.get('age') is None:\n",
    "        continue\n",
    "\n",
    "    tissue = 'muscle' if gsm.metadata['source_name_ch1'][0] == 'vastus lateralis muscle' else 'fat'\n",
    "    disease = 'healthy' if sample_meta['type 2 diabetes status'] == 'non-diabetic' else 'diabetes II'\n",
    "    SAMPLES[CURRENT_GSE][gsm_name] = {\n",
    "        'sex': sample_meta['Sex'].lower(),\n",
    "        'age': int(sample_meta['age']),\n",
    "        'tissue': tissue,\n",
    "        'disease': disease,\n",
    "        'platform': platform\n",
    "    }\n",
    "\n",
    "plot_age_ditribution(CURRENT_GSE)\n",
    "remove_gse(CURRENT_GSE)"
   ]
  },
  {
   "cell_type": "markdown",
   "metadata": {},
   "source": [
    "## 1.37. GSE38608\n",
    "\n",
    "**Brain transcriptional and epigenetic associations with the autistic phenotype (methylation data)**"
   ]
  },
  {
   "cell_type": "code",
   "execution_count": 66,
   "metadata": {},
   "outputs": [],
   "source": [
    "CURRENT_GSE = \"GSE38608\"\n",
    "gse = get_gse(CURRENT_GSE)"
   ]
  },
  {
   "cell_type": "code",
   "execution_count": 67,
   "metadata": {},
   "outputs": [
    {
     "data": {
      "image/png": "[encoded data removed]",
      "text/plain": [
       "<Figure size 500x200 with 1 Axes>"
      ]
     },
     "metadata": {},
     "output_type": "display_data"
    }
   ],
   "source": [
    "platform = get_platform(CURRENT_GSE)\n",
    "for gsm_name, gsm in gse.gsms.items():\n",
    "    if not is_correct_array(gsm):\n",
    "        continue\n",
    "    array_save(gsm_name, gsm)\n",
    "\n",
    "    sample_meta = sample_meta_parse(gsm.metadata)\n",
    "    \n",
    "    SAMPLES[CURRENT_GSE][gsm_name] = {\n",
    "        'sex': None,\n",
    "        'age': int(sample_meta['age (years)']),\n",
    "        'tissue': 'brain',\n",
    "        'disease': 'healthy' if sample_meta['disease state'] == 'control' else 'autism',\n",
    "        'platform': platform\n",
    "    }\n",
    "\n",
    "plot_age_ditribution(CURRENT_GSE)\n",
    "remove_gse(CURRENT_GSE)"
   ]
  },
  {
   "cell_type": "markdown",
   "metadata": {},
   "source": [
    "## 1.38. GSE38873 (Skipping because of not exact age)"
   ]
  },
  {
   "cell_type": "code",
   "execution_count": 68,
   "metadata": {},
   "outputs": [],
   "source": [
    "# CURRENT_GSE = \"GSE38873\"\n",
    "# gse = get_gse(CURRENT_GSE)"
   ]
  },
  {
   "cell_type": "code",
   "execution_count": 69,
   "metadata": {},
   "outputs": [],
   "source": [
    "# platform = get_platform(CURRENT_GSE)\n",
    "# for gsm_name, gsm in gse.gsms.items():\n",
    "#     if not is_correct_array(gsm):\n",
    "#         continue\n",
    "#     array_save(gsm_name, gsm)\n",
    "\n",
    "#     sample_meta = sample_meta_parse(gsm.metadata)\n",
    "    \n",
    "#     SAMPLES[CURRENT_GSE][gsm_name] = {\n",
    "#         'sex': None,\n",
    "#         'age': int(sample_meta['age']),\n",
    "#         'tissue': sample_meta['tissue'],\n",
    "#         'disease': 'healthy' if sample_meta['disease state'] == 'Unaffected control' else 'mental',\n",
    "#         'platform': platform\n",
    "#     }\n",
    "\n",
    "# plot_age_ditribution(CURRENT_GSE)\n",
    "# remove_gse(CURRENT_GSE)"
   ]
  },
  {
   "cell_type": "markdown",
   "metadata": {},
   "source": [
    "## 1.39. GSE40279\n",
    "\n",
    "**Genome-wide Methylation Profiles Reveal Quantitative Views of Human Aging Rates**"
   ]
  },
  {
   "cell_type": "code",
   "execution_count": 70,
   "metadata": {},
   "outputs": [],
   "source": [
    "CURRENT_GSE = \"GSE40279\"\n",
    "gse = get_gse(CURRENT_GSE)"
   ]
  },
  {
   "cell_type": "code",
   "execution_count": 71,
   "metadata": {},
   "outputs": [
    {
     "name": "stdout",
     "output_type": "stream",
     "text": [
      "The length of GSE40279 is 0\n"
     ]
    }
   ],
   "source": [
    "platform = get_platform(CURRENT_GSE)\n",
    "for gsm_name, gsm in gse.gsms.items():\n",
    "    if not is_correct_array(gsm):\n",
    "        continue\n",
    "    array_save(gsm_name, gsm)\n",
    "\n",
    "    sample_meta = sample_meta_parse(gsm.metadata)\n",
    "    \n",
    "    SAMPLES[CURRENT_GSE][gsm_name] = {\n",
    "        'sex': 'female' if sample_meta['gender'] == 'F' else 'male',\n",
    "        'age': int(sample_meta['age (y)']),\n",
    "        'tissue': 'blood',\n",
    "        'disease': 'healthy',\n",
    "        'platform': platform\n",
    "    }\n",
    "\n",
    "plot_age_ditribution(CURRENT_GSE)\n",
    "remove_gse(CURRENT_GSE)"
   ]
  },
  {
   "cell_type": "markdown",
   "metadata": {},
   "source": [
    "## 1.40. GSE40700 (CELLS)"
   ]
  },
  {
   "cell_type": "code",
   "execution_count": 30,
   "metadata": {},
   "outputs": [],
   "source": [
    "CURRENT_GSE = \"GSE40700\"\n",
    "gse = get_gse(CURRENT_GSE)"
   ]
  },
  {
   "cell_type": "code",
   "execution_count": 37,
   "metadata": {},
   "outputs": [
    {
     "data": {
      "text/plain": [
       "characteristics_ch1.6.cell description\n",
       "B-lymphocyte, lymphoblastoid, International HapMap Project, CEPH/Utah pedigree 1463, treatment: Epstein-Barr Virus transformed                                                                                   2\n",
       "embryonic stem cells                                                                                                                                                                                             1\n",
       "acute megakaryocytic leukemia cells, \"established from the peripheral blood of a 10-month-old boy with Down's syndrome and acute megakaryocytic leukemia (AML M7) at relapse in 1985\" - DSMZ. (PMID: 3016165)    1\n",
       "choroid plexus epithelial cells                                                                                                                                                                                  1\n",
       "cardiac myocytes                                                                                                                                                                                                 1\n",
       "                                                                                                                                                                                                                ..\n",
       "jejunum, donor H12817N, age 71, caucasian, DNA and RNA extract                                                                                                                                                   1\n",
       "left ventricle, donor N41, age 26, Asian, DNA extract                                                                                                                                                            1\n",
       "kidney, donor H12817N, age 71, caucasian, DNA and RNA extract                                                                                                                                                    1\n",
       "fetal lung fibroblast                                                                                                                                                                                            1\n",
       "fetal buttock/thigh fibroblast                                                                                                                                                                                   1\n",
       "Name: count, Length: 62, dtype: int64"
      ]
     },
     "execution_count": 37,
     "metadata": {},
     "output_type": "execute_result"
    }
   ],
   "source": [
    "# Skip because only 1 sample for embryonic stem cell\n",
    "gse.phenotype_data['characteristics_ch1.6.cell description'].value_counts()"
   ]
  },
  {
   "cell_type": "markdown",
   "metadata": {},
   "source": [
    "## 1.41. GSE41037\n",
    "\n",
    "**Aging effects on DNA methylation modules in blood tissue**"
   ]
  },
  {
   "cell_type": "code",
   "execution_count": 72,
   "metadata": {},
   "outputs": [],
   "source": [
    "CURRENT_GSE = \"GSE41037\"\n",
    "gse = get_gse(CURRENT_GSE)"
   ]
  },
  {
   "cell_type": "code",
   "execution_count": 73,
   "metadata": {},
   "outputs": [
    {
     "data": {
      "text/plain": [
       "characteristics_ch1.3.tissue\n",
       "whole blood    720\n",
       "Name: count, dtype: int64"
      ]
     },
     "execution_count": 73,
     "metadata": {},
     "output_type": "execute_result"
    }
   ],
   "source": [
    "gse.phenotype_data['characteristics_ch1.3.tissue'].value_counts()"
   ]
  },
  {
   "cell_type": "code",
   "execution_count": 74,
   "metadata": {},
   "outputs": [
    {
     "data": {
      "text/plain": [
       "characteristics_ch1.2.diseasestatus\n",
       "1; control                  394\n",
       "2; schizophrenia patient    325\n",
       "3; bipolar patient            1\n",
       "Name: count, dtype: int64"
      ]
     },
     "execution_count": 74,
     "metadata": {},
     "output_type": "execute_result"
    }
   ],
   "source": [
    "gse.phenotype_data['characteristics_ch1.2.diseasestatus'].value_counts()"
   ]
  },
  {
   "cell_type": "code",
   "execution_count": 75,
   "metadata": {},
   "outputs": [
    {
     "data": {
      "image/png": "[encoded data removed]",
      "text/plain": [
       "<Figure size 500x200 with 1 Axes>"
      ]
     },
     "metadata": {},
     "output_type": "display_data"
    }
   ],
   "source": [
    "platform = get_platform(CURRENT_GSE)\n",
    "for gsm_name, gsm in gse.gsms.items():\n",
    "    if not is_correct_array(gsm):\n",
    "        continue\n",
    "    array_save(gsm_name, gsm)\n",
    "\n",
    "    sample_meta = sample_meta_parse(gsm.metadata)\n",
    "    disease = sample_meta['diseasestatus'].split('; ')[1]\n",
    "    if disease == 'control':\n",
    "        disease = 'healthy'\n",
    "    elif disease == 'schizophrenia patient':\n",
    "        disease = 'shizophrenia'\n",
    "    elif disease == 'bipolar patient':\n",
    "        disease = 'bipolar'\n",
    "    else:\n",
    "        raise ValueError(f\"Unknown disease: {disease}\")\n",
    "    \n",
    "    SAMPLES[CURRENT_GSE][gsm_name] = {\n",
    "        'sex': sample_meta['gender'],\n",
    "        'age': int(sample_meta['age']),\n",
    "        'tissue': 'blood',\n",
    "        'disease': disease,\n",
    "        'platform': platform\n",
    "    }\n",
    "\n",
    "plot_age_ditribution(CURRENT_GSE)\n",
    "remove_gse(CURRENT_GSE)"
   ]
  },
  {
   "cell_type": "markdown",
   "metadata": {},
   "source": [
    "## 1.42. GSE41169\n",
    "\n",
    "**Blood DNA methylation profiles in a Dutch population**"
   ]
  },
  {
   "cell_type": "code",
   "execution_count": 76,
   "metadata": {},
   "outputs": [],
   "source": [
    "CURRENT_GSE = \"GSE41169\"\n",
    "gse = get_gse(CURRENT_GSE)"
   ]
  },
  {
   "cell_type": "code",
   "execution_count": 77,
   "metadata": {},
   "outputs": [
    {
     "data": {
      "image/png": "[encoded data removed]",
      "text/plain": [
       "<Figure size 500x200 with 1 Axes>"
      ]
     },
     "metadata": {},
     "output_type": "display_data"
    }
   ],
   "source": [
    "platform = get_platform(CURRENT_GSE)\n",
    "for gsm_name, gsm in gse.gsms.items():\n",
    "    if not is_correct_array(gsm):\n",
    "        continue\n",
    "    array_save(gsm_name, gsm)\n",
    "\n",
    "    sample_meta = sample_meta_parse(gsm.metadata)\n",
    "    \n",
    "    SAMPLES[CURRENT_GSE][gsm_name] = {\n",
    "        'sex': sample_meta['gender'].lower(),\n",
    "        'age': int(sample_meta['age']),\n",
    "        'tissue': 'blood',\n",
    "        'disease': 'healthy' if sample_meta['diseasestatus (1=control, 2=scz patient)'] == '1' else 'shizophrenia',\n",
    "        'platform': platform\n",
    "    }\n",
    "\n",
    "plot_age_ditribution(CURRENT_GSE)\n",
    "remove_gse(CURRENT_GSE)"
   ]
  },
  {
   "cell_type": "markdown",
   "metadata": {},
   "source": [
    "## 1.43. GSE41782 (NOT HUMANS)\n",
    "\n",
    "**A genome-wide comparative study of DNA methylation in great apes**"
   ]
  },
  {
   "cell_type": "markdown",
   "metadata": {},
   "source": [
    "## 1.44. GSE41826\n",
    "\n",
    "**A Cell Epigenotype Specific Model for the Correction of Cellular Heterogeneity in the Brain**"
   ]
  },
  {
   "cell_type": "code",
   "execution_count": 78,
   "metadata": {},
   "outputs": [],
   "source": [
    "CURRENT_GSE = \"GSE41826\"\n",
    "gse = get_gse(CURRENT_GSE)"
   ]
  },
  {
   "cell_type": "code",
   "execution_count": 79,
   "metadata": {},
   "outputs": [
    {
     "data": {
      "text/plain": [
       "characteristics_ch1.1.diagnosis\n",
       "Control       77\n",
       "Depression    68\n",
       "Name: count, dtype: int64"
      ]
     },
     "execution_count": 79,
     "metadata": {},
     "output_type": "execute_result"
    }
   ],
   "source": [
    "gse.phenotype_data['characteristics_ch1.1.diagnosis'].value_counts()"
   ]
  },
  {
   "cell_type": "code",
   "execution_count": 80,
   "metadata": {},
   "outputs": [
    {
     "name": "stdout",
     "output_type": "stream",
     "text": [
      "The length of GSE41826 is 0\n"
     ]
    }
   ],
   "source": [
    "platform = get_platform(CURRENT_GSE)\n",
    "for gsm_name, gsm in gse.gsms.items():\n",
    "    if not is_correct_array(gsm):\n",
    "        continue\n",
    "    array_save(gsm_name, gsm)\n",
    "\n",
    "    sample_meta = sample_meta_parse(gsm.metadata)\n",
    "    \n",
    "    SAMPLES[CURRENT_GSE][gsm_name] = {\n",
    "        'sex': sample_meta['Sex'].lower(),\n",
    "        'age': int(sample_meta['age']),\n",
    "        'tissue': 'brain',\n",
    "        'disease': 'healthy' if sample_meta['diagnosis'] == 'Control' else 'depression',\n",
    "        'platform': platform\n",
    "    }\n",
    "\n",
    "plot_age_ditribution(CURRENT_GSE)\n",
    "remove_gse(CURRENT_GSE)"
   ]
  },
  {
   "cell_type": "markdown",
   "metadata": {},
   "source": [
    "## 1.45. GSE42510 (NO AGE)"
   ]
  },
  {
   "cell_type": "markdown",
   "metadata": {},
   "source": [
    "## 1.46. GSE42700\n",
    "\n",
    "**Epigenome analysis of buccal cells from monozygotic and dizygotic twins**"
   ]
  },
  {
   "cell_type": "code",
   "execution_count": 90,
   "metadata": {},
   "outputs": [],
   "source": [
    "CURRENT_GSE = \"GSE42700\"\n",
    "gse = get_gse(CURRENT_GSE)"
   ]
  },
  {
   "cell_type": "code",
   "execution_count": 91,
   "metadata": {},
   "outputs": [
    {
     "name": "stdout",
     "output_type": "stream",
     "text": [
      "The length of GSE42700 is 0\n"
     ]
    }
   ],
   "source": [
    "platform = get_platform(CURRENT_GSE)\n",
    "for gsm_name, gsm in gse.gsms.items():\n",
    "    if not is_correct_array(gsm):\n",
    "        continue\n",
    "    array_save(gsm_name, gsm)\n",
    "\n",
    "    sample_meta = sample_meta_parse(gsm.metadata)\n",
    "    \n",
    "    SAMPLES[CURRENT_GSE][gsm_name] = {\n",
    "        'sex': sample_meta['gender'],\n",
    "        'age': 0 if sample_meta['age'] == 'birth' else int(sample_meta['age'].split(' ')[0]) // 12,\n",
    "        'tissue': 'skin',\n",
    "        'disease': 'healthy',\n",
    "        'platform': platform\n",
    "    }\n",
    "\n",
    "plot_age_ditribution(CURRENT_GSE)\n",
    "remove_gse(CURRENT_GSE)"
   ]
  },
  {
   "cell_type": "markdown",
   "metadata": {},
   "source": [
    "## 1.47. GSE42861\n",
    "\n",
    "**Differential DNA methylation in Rheumatoid arthritis**"
   ]
  },
  {
   "cell_type": "code",
   "execution_count": 83,
   "metadata": {},
   "outputs": [],
   "source": [
    "CURRENT_GSE = \"GSE42861\"\n",
    "gse = get_gse(CURRENT_GSE)"
   ]
  },
  {
   "cell_type": "code",
   "execution_count": 86,
   "metadata": {},
   "outputs": [
    {
     "data": {
      "text/plain": [
       "characteristics_ch1.1.disease state\n",
       "rheumatoid arthritis    354\n",
       "Normal                  335\n",
       "Name: count, dtype: int64"
      ]
     },
     "execution_count": 86,
     "metadata": {},
     "output_type": "execute_result"
    }
   ],
   "source": [
    "gse.phenotype_data['characteristics_ch1.1.disease state'].value_counts()"
   ]
  },
  {
   "cell_type": "code",
   "execution_count": 88,
   "metadata": {},
   "outputs": [
    {
     "data": {
      "text/plain": [
       "characteristics_ch1.0.cell type\n",
       "PBL    689\n",
       "Name: count, dtype: int64"
      ]
     },
     "execution_count": 88,
     "metadata": {},
     "output_type": "execute_result"
    }
   ],
   "source": [
    "gse.phenotype_data['characteristics_ch1.0.cell type'].value_counts()"
   ]
  },
  {
   "cell_type": "code",
   "execution_count": 89,
   "metadata": {},
   "outputs": [
    {
     "data": {
      "image/png": "[encoded data removed]",
      "text/plain": [
       "<Figure size 500x200 with 1 Axes>"
      ]
     },
     "metadata": {},
     "output_type": "display_data"
    }
   ],
   "source": [
    "platform = get_platform(CURRENT_GSE)\n",
    "for gsm_name, gsm in gse.gsms.items():\n",
    "    if not is_correct_array(gsm):\n",
    "        continue\n",
    "    array_save(gsm_name, gsm)\n",
    "\n",
    "    sample_meta = sample_meta_parse(gsm.metadata)\n",
    "    \n",
    "    SAMPLES[CURRENT_GSE][gsm_name] = {\n",
    "        'sex': 'female' if sample_meta['gender'] == 'f' else 'male',\n",
    "        'age': int(sample_meta['age']),\n",
    "        'tissue': 'blood',\n",
    "        'disease': 'healthy' if sample_meta['disease state'] != 'rheumatoid arthritis' else 'rheumatoid arthritis',\n",
    "        'platform': platform\n",
    "    }\n",
    "\n",
    "plot_age_ditribution(CURRENT_GSE)\n",
    "remove_gse(CURRENT_GSE)"
   ]
  },
  {
   "cell_type": "markdown",
   "metadata": {},
   "source": [
    "## 1.48. GSE42865 (NO AGE)"
   ]
  },
  {
   "cell_type": "markdown",
   "metadata": {},
   "source": [
    "## 1.49. GSE43269 (NO AGE)"
   ]
  },
  {
   "cell_type": "markdown",
   "metadata": {},
   "source": [
    "## 1.50. GSE44667 (NO AGE)"
   ]
  },
  {
   "cell_type": "markdown",
   "metadata": {},
   "source": [
    "## 1.51. GSE47627 (NO AGE)"
   ]
  },
  {
   "cell_type": "markdown",
   "metadata": {},
   "source": [
    "## Gather Samples"
   ]
  },
  {
   "cell_type": "code",
   "execution_count": 92,
   "metadata": {},
   "outputs": [
    {
     "data": {
      "text/html": [
       "<div>\n",
       "<style scoped>\n",
       "    .dataframe tbody tr th:only-of-type {\n",
       "        vertical-align: middle;\n",
       "    }\n",
       "\n",
       "    .dataframe tbody tr th {\n",
       "        vertical-align: top;\n",
       "    }\n",
       "\n",
       "    .dataframe thead th {\n",
       "        text-align: right;\n",
       "    }\n",
       "</style>\n",
       "<table border=\"1\" class=\"dataframe\">\n",
       "  <thead>\n",
       "    <tr style=\"text-align: right;\">\n",
       "      <th></th>\n",
       "      <th>GSE</th>\n",
       "      <th>Sample</th>\n",
       "      <th>sex</th>\n",
       "      <th>age</th>\n",
       "      <th>tissue</th>\n",
       "      <th>disease</th>\n",
       "      <th>platform</th>\n",
       "    </tr>\n",
       "  </thead>\n",
       "  <tbody>\n",
       "    <tr>\n",
       "      <th>0</th>\n",
       "      <td>GSE15745</td>\n",
       "      <td>GSM401538</td>\n",
       "      <td>male</td>\n",
       "      <td>20</td>\n",
       "      <td>brain</td>\n",
       "      <td>healthy</td>\n",
       "      <td>27k</td>\n",
       "    </tr>\n",
       "    <tr>\n",
       "      <th>1</th>\n",
       "      <td>GSE15745</td>\n",
       "      <td>GSM401539</td>\n",
       "      <td>male</td>\n",
       "      <td>44</td>\n",
       "      <td>brain</td>\n",
       "      <td>healthy</td>\n",
       "      <td>27k</td>\n",
       "    </tr>\n",
       "    <tr>\n",
       "      <th>2</th>\n",
       "      <td>GSE15745</td>\n",
       "      <td>GSM401540</td>\n",
       "      <td>male</td>\n",
       "      <td>68</td>\n",
       "      <td>brain</td>\n",
       "      <td>healthy</td>\n",
       "      <td>27k</td>\n",
       "    </tr>\n",
       "    <tr>\n",
       "      <th>3</th>\n",
       "      <td>GSE15745</td>\n",
       "      <td>GSM401541</td>\n",
       "      <td>male</td>\n",
       "      <td>38</td>\n",
       "      <td>brain</td>\n",
       "      <td>healthy</td>\n",
       "      <td>27k</td>\n",
       "    </tr>\n",
       "    <tr>\n",
       "      <th>4</th>\n",
       "      <td>GSE15745</td>\n",
       "      <td>GSM401542</td>\n",
       "      <td>male</td>\n",
       "      <td>66</td>\n",
       "      <td>brain</td>\n",
       "      <td>healthy</td>\n",
       "      <td>27k</td>\n",
       "    </tr>\n",
       "    <tr>\n",
       "      <th>...</th>\n",
       "      <td>...</td>\n",
       "      <td>...</td>\n",
       "      <td>...</td>\n",
       "      <td>...</td>\n",
       "      <td>...</td>\n",
       "      <td>...</td>\n",
       "      <td>...</td>\n",
       "    </tr>\n",
       "    <tr>\n",
       "      <th>4721</th>\n",
       "      <td>GSE42861</td>\n",
       "      <td>GSM1052209</td>\n",
       "      <td>female</td>\n",
       "      <td>63</td>\n",
       "      <td>blood</td>\n",
       "      <td>healthy</td>\n",
       "      <td>450k</td>\n",
       "    </tr>\n",
       "    <tr>\n",
       "      <th>4722</th>\n",
       "      <td>GSE42861</td>\n",
       "      <td>GSM1052210</td>\n",
       "      <td>female</td>\n",
       "      <td>63</td>\n",
       "      <td>blood</td>\n",
       "      <td>healthy</td>\n",
       "      <td>450k</td>\n",
       "    </tr>\n",
       "    <tr>\n",
       "      <th>4723</th>\n",
       "      <td>GSE42861</td>\n",
       "      <td>GSM1052211</td>\n",
       "      <td>female</td>\n",
       "      <td>46</td>\n",
       "      <td>blood</td>\n",
       "      <td>healthy</td>\n",
       "      <td>450k</td>\n",
       "    </tr>\n",
       "    <tr>\n",
       "      <th>4724</th>\n",
       "      <td>GSE42861</td>\n",
       "      <td>GSM1052212</td>\n",
       "      <td>female</td>\n",
       "      <td>64</td>\n",
       "      <td>blood</td>\n",
       "      <td>healthy</td>\n",
       "      <td>450k</td>\n",
       "    </tr>\n",
       "    <tr>\n",
       "      <th>4725</th>\n",
       "      <td>GSE42861</td>\n",
       "      <td>GSM1052213</td>\n",
       "      <td>female</td>\n",
       "      <td>36</td>\n",
       "      <td>blood</td>\n",
       "      <td>healthy</td>\n",
       "      <td>450k</td>\n",
       "    </tr>\n",
       "  </tbody>\n",
       "</table>\n",
       "<p>4726 rows × 7 columns</p>\n",
       "</div>"
      ],
      "text/plain": [
       "           GSE      Sample     sex  age tissue  disease platform\n",
       "0     GSE15745   GSM401538    male   20  brain  healthy      27k\n",
       "1     GSE15745   GSM401539    male   44  brain  healthy      27k\n",
       "2     GSE15745   GSM401540    male   68  brain  healthy      27k\n",
       "3     GSE15745   GSM401541    male   38  brain  healthy      27k\n",
       "4     GSE15745   GSM401542    male   66  brain  healthy      27k\n",
       "...        ...         ...     ...  ...    ...      ...      ...\n",
       "4721  GSE42861  GSM1052209  female   63  blood  healthy     450k\n",
       "4722  GSE42861  GSM1052210  female   63  blood  healthy     450k\n",
       "4723  GSE42861  GSM1052211  female   46  blood  healthy     450k\n",
       "4724  GSE42861  GSM1052212  female   64  blood  healthy     450k\n",
       "4725  GSE42861  GSM1052213  female   36  blood  healthy     450k\n",
       "\n",
       "[4726 rows x 7 columns]"
      ]
     },
     "execution_count": 92,
     "metadata": {},
     "output_type": "execute_result"
    }
   ],
   "source": [
    "samples_list = []\n",
    "for gse_id, samples in SAMPLES.items():\n",
    "    for sample_id, sample in samples.items():\n",
    "        samples_list.append({\n",
    "            'GSE': gse_id,\n",
    "            'Sample': sample_id,\n",
    "            **sample\n",
    "        })\n",
    "samples_df = pd.DataFrame(samples_list)\n",
    "samples_df"
   ]
  },
  {
   "cell_type": "code",
   "execution_count": 93,
   "metadata": {},
   "outputs": [
    {
     "data": {
      "text/plain": [
       "platform\n",
       "27k     3730\n",
       "450k     996\n",
       "Name: count, dtype: int64"
      ]
     },
     "execution_count": 93,
     "metadata": {},
     "output_type": "execute_result"
    }
   ],
   "source": [
    "samples_df['platform'].value_counts()"
   ]
  },
  {
   "cell_type": "code",
   "execution_count": 94,
   "metadata": {},
   "outputs": [
    {
     "data": {
      "text/plain": [
       "tissue\n",
       "blood          3268\n",
       "brain           542\n",
       "saliva          281\n",
       "prostate        155\n",
       "uterus          152\n",
       "breast          137\n",
       "liver           114\n",
       "colon            24\n",
       "muscle           22\n",
       "bone marrow      16\n",
       "skin             15\n",
       "Name: count, dtype: int64"
      ]
     },
     "execution_count": 94,
     "metadata": {},
     "output_type": "execute_result"
    }
   ],
   "source": [
    "samples_df['tissue'].value_counts()"
   ]
  },
  {
   "cell_type": "code",
   "execution_count": 95,
   "metadata": {},
   "outputs": [
    {
     "data": {
      "text/plain": [
       "disease\n",
       "healthy                           3174\n",
       "cancer                             473\n",
       "shizophrenia                       387\n",
       "rheumatoid arthritis               354\n",
       "diabetes I                         195\n",
       "Hepatocellular carcinoma (HCC)      57\n",
       "Crohn's disease                     55\n",
       "autism                              19\n",
       "diabetes II                         11\n",
       "bipolar                              1\n",
       "Name: count, dtype: int64"
      ]
     },
     "execution_count": 95,
     "metadata": {},
     "output_type": "execute_result"
    }
   ],
   "source": [
    "samples_df['disease'].value_counts()"
   ]
  },
  {
   "cell_type": "code",
   "execution_count": 96,
   "metadata": {},
   "outputs": [],
   "source": [
    "samples_df.to_csv(\"data/geo_samples.csv\", index=False)"
   ]
  },
  {
   "cell_type": "code",
   "execution_count": 25,
   "metadata": {},
   "outputs": [
    {
     "data": {
      "text/html": [
       "<div>\n",
       "<style scoped>\n",
       "    .dataframe tbody tr th:only-of-type {\n",
       "        vertical-align: middle;\n",
       "    }\n",
       "\n",
       "    .dataframe tbody tr th {\n",
       "        vertical-align: top;\n",
       "    }\n",
       "\n",
       "    .dataframe thead th {\n",
       "        text-align: right;\n",
       "    }\n",
       "</style>\n",
       "<table border=\"1\" class=\"dataframe\">\n",
       "  <thead>\n",
       "    <tr style=\"text-align: right;\">\n",
       "      <th></th>\n",
       "      <th>GSE</th>\n",
       "      <th>Sample</th>\n",
       "      <th>cell_type</th>\n",
       "      <th>platform</th>\n",
       "    </tr>\n",
       "  </thead>\n",
       "  <tbody>\n",
       "    <tr>\n",
       "      <th>0</th>\n",
       "      <td>GSE30090</td>\n",
       "      <td>GSM744663</td>\n",
       "      <td>ESC</td>\n",
       "      <td>27k</td>\n",
       "    </tr>\n",
       "    <tr>\n",
       "      <th>1</th>\n",
       "      <td>GSE30090</td>\n",
       "      <td>GSM744664</td>\n",
       "      <td>ESC</td>\n",
       "      <td>27k</td>\n",
       "    </tr>\n",
       "    <tr>\n",
       "      <th>2</th>\n",
       "      <td>GSE30090</td>\n",
       "      <td>GSM744665</td>\n",
       "      <td>ESC</td>\n",
       "      <td>27k</td>\n",
       "    </tr>\n",
       "    <tr>\n",
       "      <th>3</th>\n",
       "      <td>GSE30090</td>\n",
       "      <td>GSM744666</td>\n",
       "      <td>ESC</td>\n",
       "      <td>27k</td>\n",
       "    </tr>\n",
       "    <tr>\n",
       "      <th>4</th>\n",
       "      <td>GSE30090</td>\n",
       "      <td>GSM744667</td>\n",
       "      <td>ESC</td>\n",
       "      <td>27k</td>\n",
       "    </tr>\n",
       "    <tr>\n",
       "      <th>...</th>\n",
       "      <td>...</td>\n",
       "      <td>...</td>\n",
       "      <td>...</td>\n",
       "      <td>...</td>\n",
       "    </tr>\n",
       "    <tr>\n",
       "      <th>231</th>\n",
       "      <td>GSE31848</td>\n",
       "      <td>GSM867991</td>\n",
       "      <td>iPSC</td>\n",
       "      <td>450k</td>\n",
       "    </tr>\n",
       "    <tr>\n",
       "      <th>232</th>\n",
       "      <td>GSE31848</td>\n",
       "      <td>GSM867992</td>\n",
       "      <td>iPSC</td>\n",
       "      <td>450k</td>\n",
       "    </tr>\n",
       "    <tr>\n",
       "      <th>233</th>\n",
       "      <td>GSE31848</td>\n",
       "      <td>GSM867993</td>\n",
       "      <td>iPSC</td>\n",
       "      <td>450k</td>\n",
       "    </tr>\n",
       "    <tr>\n",
       "      <th>234</th>\n",
       "      <td>GSE31848</td>\n",
       "      <td>GSM867994</td>\n",
       "      <td>iPSC</td>\n",
       "      <td>450k</td>\n",
       "    </tr>\n",
       "    <tr>\n",
       "      <th>235</th>\n",
       "      <td>GSE31848</td>\n",
       "      <td>GSM867995</td>\n",
       "      <td>iPSC</td>\n",
       "      <td>450k</td>\n",
       "    </tr>\n",
       "  </tbody>\n",
       "</table>\n",
       "<p>236 rows × 4 columns</p>\n",
       "</div>"
      ],
      "text/plain": [
       "          GSE     Sample cell_type platform\n",
       "0    GSE30090  GSM744663       ESC      27k\n",
       "1    GSE30090  GSM744664       ESC      27k\n",
       "2    GSE30090  GSM744665       ESC      27k\n",
       "3    GSE30090  GSM744666       ESC      27k\n",
       "4    GSE30090  GSM744667       ESC      27k\n",
       "..        ...        ...       ...      ...\n",
       "231  GSE31848  GSM867991      iPSC     450k\n",
       "232  GSE31848  GSM867992      iPSC     450k\n",
       "233  GSE31848  GSM867993      iPSC     450k\n",
       "234  GSE31848  GSM867994      iPSC     450k\n",
       "235  GSE31848  GSM867995      iPSC     450k\n",
       "\n",
       "[236 rows x 4 columns]"
      ]
     },
     "execution_count": 25,
     "metadata": {},
     "output_type": "execute_result"
    }
   ],
   "source": [
    "cell_samples_list = []\n",
    "for gse_id, samples in SAMPLES_CELLS.items():\n",
    "    for sample_id, sample in samples.items():\n",
    "        cell_samples_list.append({\n",
    "            'GSE': gse_id,\n",
    "            'Sample': sample_id,\n",
    "            **sample\n",
    "        })\n",
    "cell_samples_df = pd.DataFrame(cell_samples_list)\n",
    "cell_samples_df.loc[cell_samples_df['cell_type'].str.contains('pluripotent'), 'cell_type'] = 'iPSC'\n",
    "cell_samples_df.loc[cell_samples_df['cell_type'].str.contains('embryonic'), 'cell_type'] = 'ESC'\n",
    "cell_samples_df"
   ]
  },
  {
   "cell_type": "code",
   "execution_count": 26,
   "metadata": {},
   "outputs": [
    {
     "data": {
      "text/plain": [
       "cell_type\n",
       "ESC     160\n",
       "iPSC     76\n",
       "Name: count, dtype: int64"
      ]
     },
     "execution_count": 26,
     "metadata": {},
     "output_type": "execute_result"
    }
   ],
   "source": [
    "cell_samples_df['cell_type'].value_counts()"
   ]
  },
  {
   "cell_type": "code",
   "execution_count": 27,
   "metadata": {},
   "outputs": [],
   "source": [
    "# Save cell samples\n",
    "cell_samples_df.to_csv(\"data/geo_cell_samples.csv\", index=False)\n"
   ]
  }
 ],
 "metadata": {
  "kernelspec": {
   "display_name": "Python 3",
   "language": "python",
   "name": "python3"
  },
  "language_info": {
   "codemirror_mode": {
    "name": "ipython",
    "version": 3
   },
   "file_extension": ".py",
   "mimetype": "text/x-python",
   "name": "python",
   "nbconvert_exporter": "python",
   "pygments_lexer": "ipython3",
   "version": "3.11.9"
  }
 },
 "nbformat": 4,
 "nbformat_minor": 2
}
